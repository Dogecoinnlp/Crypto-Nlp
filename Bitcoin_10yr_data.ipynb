{
 "cells": [
  {
   "cell_type": "code",
   "execution_count": null,
   "metadata": {},
   "outputs": [],
   "source": [
    "import numpy as np\n",
    "import pandas as pd\n",
    "import praw\n",
    "from psaw import PushshiftAPI\n",
    "from datetime import datetime\n",
    "\n",
    "r = praw.Reddit(\n",
    "    client_id=\"jjj5D707adNaIhRVNKPb6w\",\n",
    "    client_secret=\"qrp5rk7slJHYieRULSXCXhepw-cUpQ\",\n",
    "    password=\"myleancostmoredenurrent\",\n",
    "    user_agent=\"testscript by u/fakebot3\",\n",
    "    username=\"dogecoinnlp\",\n",
    ")\n",
    "\n",
    "#Should print your username if you authenticated correctly\n",
    "print(r.user.me())\n",
    "\n",
    "#directs timestamped ids from PushshiftAPI to Praw submissions objects\n",
    "#Submissions function doesn't work(can't obtain submissions)\n",
    "#PushshiftAPI can get ids, but many datafields such as score and num_comments don't work\n",
    "#so we need to combine the two\n",
    "api = PushshiftAPI(r)"
   ]
  },
  {
   "cell_type": "code",
   "execution_count": null,
   "metadata": {},
   "outputs": [],
   "source": [
    "month = 9\n",
    "#everything put together:\n",
    "for j in range(1,30+1):\n",
    "    #change here to change what data is collected data\n",
    "    #----------------------------\n",
    "    i = 1\n",
    "    start_epoch = int(datetime(2021,month,j).timestamp())\n",
    "    end_epoch = start_epoch + 86400\n",
    "\n",
    "    ids = list(api.search_submissions(after=start_epoch, before = end_epoch, subreddit='Bitcoin'))\n",
    "    #============================\n",
    "    ids = list(set(ids))\n",
    "\n",
    "    #sort data by score\n",
    "    l = len(ids)\n",
    "    score = np.zeros(l)\n",
    "    num_comments = np.zeros(l)\n",
    "\n",
    "    for i in range(0,l):\n",
    "        ids[i].comments.replace_more(limit=None)\n",
    "        comments[i] = len([com for com in ids[i].comments.list() if com.created_utc < end_epoch]) \n",
    "\n",
    "    sorted_ids = pd.Series(data=comments, index=range(0,l)).sort_values(ascending = False)\n",
    "    top_submissions = [ids[i] for i in sorted_ids.index]\n",
    "\n",
    "    #save ids, append for each date\n",
    "    if len(ids)>0:\n",
    "        if \"popular_subs\" in locals():\n",
    "            popular_subs = popular_subs.append(\n",
    "                pd.DataFrame([top_ids+[\"\"]*(100-len(top_ids))], index = [datetime.utcfromtimestamp(start_epoch).strftime('%Y-%m-%d')]))\n",
    "\n",
    "        else:    \n",
    "            popular_subs = pd.DataFrame(\n",
    "                [top_ids+[\"\"]*(100-len(top_ids))], index = [datetime.utcfromtimestamp(start_epoch).strftime('%Y-%m-%d')])\n"
   ]
  }
 ],
 "metadata": {
  "kernelspec": {
   "display_name": "Python 3",
   "language": "python",
   "name": "python3"
  },
  "language_info": {
   "codemirror_mode": {
    "name": "ipython",
    "version": 3
   },
   "file_extension": ".py",
   "mimetype": "text/x-python",
   "name": "python",
   "nbconvert_exporter": "python",
   "pygments_lexer": "ipython3",
   "version": "3.7.4"
  }
 },
 "nbformat": 4,
 "nbformat_minor": 4
}
