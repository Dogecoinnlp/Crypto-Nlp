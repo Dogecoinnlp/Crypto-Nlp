{
 "cells": [
  {
   "cell_type": "code",
   "execution_count": 1,
   "metadata": {},
   "outputs": [],
   "source": [
    "import numpy as np\n",
    "import pandas as pd\n",
    "\n",
    "def accuracy(true, pred):\n",
    "    temp = np.sign(true*pred)+1\n",
    "    return sum(temp)/len(temp)/2"
   ]
  },
  {
   "cell_type": "code",
   "execution_count": 80,
   "metadata": {},
   "outputs": [],
   "source": [
    "btc_prices = pd.read_csv(\"Coinbase_BTCUSD_dailydata.csv\", index_col = 6)\n",
    "btc_prices.index = pd.to_datetime(btc_prices.index).strftime('%Y-%m-%d')\n",
    "\n",
    "#get the right daterange\n",
    "btc_prices = btc_prices[(btc_prices.index > '2021-01-01') & (btc_prices.index < '2021-10-01')].sort_index()\n",
    "\n",
    "btc_prices['ret'] = btc_prices.close/btc_prices.close.shift(1)-1\n",
    "btc_ret = btc_prices[[\"ret\"]].fillna(0)"
   ]
  },
  {
   "cell_type": "code",
   "execution_count": 228,
   "metadata": {},
   "outputs": [],
   "source": [
    "#get the time series nicely streamlined into the machine learning models\n",
    "rolling_window = 5\n",
    "\n",
    "train = btc_ret[(btc_ret.index > '2021-01-01') & (btc_ret.index <= '2021-09-01')]\n",
    "test = btc_ret[(btc_ret.index > '2021-09-01')]\n",
    "\n",
    "X = np.empty([len(train)-rolling_window,rolling_window])\n",
    "for i in range(0,len(train)-rolling_window):\n",
    "    X[i] = np.array(train.iloc[i:i+rolling_window,0])\n",
    "y = np.array(train.iloc[rolling_window:,0])\n",
    "\n",
    "X_test = np.empty([len(test)-rolling_window,rolling_window])\n",
    "for i in range(0,len(test)-rolling_window):\n",
    "    X_test[i] = np.array(test.iloc[i:i+rolling_window,0])\n",
    "y_test = np.array(test.iloc[rolling_window:,0])\n"
   ]
  },
  {
   "cell_type": "code",
   "execution_count": 229,
   "metadata": {},
   "outputs": [],
   "source": [
    "#naive method\n",
    "naive_pred = np.roll(np.sign(test.ret),1)"
   ]
  },
  {
   "cell_type": "code",
   "execution_count": 230,
   "metadata": {},
   "outputs": [],
   "source": [
    "#linear regression\n",
    "from sklearn.linear_model import LinearRegression\n",
    "\n",
    "linear_model = LinearRegression().fit(X, y)\n",
    "linear_pred = linear_model.predict(X_test)"
   ]
  },
  {
   "cell_type": "code",
   "execution_count": 231,
   "metadata": {},
   "outputs": [],
   "source": [
    "#Logistic Regression\n",
    "from sklearn.linear_model import LogisticRegression\n",
    "log_model = LogisticRegression(random_state=0).fit(X, np.sign(y))\n",
    "log_pred = log_model.predict(X_test)"
   ]
  },
  {
   "cell_type": "code",
   "execution_count": 232,
   "metadata": {},
   "outputs": [
    {
     "name": "stdout",
     "output_type": "stream",
     "text": [
      "naive:  0.4166666666666667\n",
      "linear:  0.4583333333333333\n",
      "logistic:,  0.4166666666666667\n"
     ]
    }
   ],
   "source": [
    "#evaluate benchmark models\n",
    "pred_comp1 = test.iloc[rolling_window:].copy()\n",
    "pred_comp1['naive'] = naive_pred[rolling_window:]\n",
    "pred_comp1['simple_LinR']  = linear_pred\n",
    "pred_comp1['simple_LogR'] = log_pred\n",
    "\n",
    "print(\"naive: \", accuracy(pred_comp1.ret, pred_comp1.naive) )\n",
    "print(\"linear: \", accuracy(pred_comp1.ret, pred_comp1.simple_LinR) )\n",
    "print(\"logistic:, \", accuracy(pred_comp1.ret, pred_comp1.simple_LogR))"
   ]
  },
  {
   "cell_type": "code",
   "execution_count": null,
   "metadata": {},
   "outputs": [],
   "source": [
    "#lstm not done yet"
   ]
  },
  {
   "cell_type": "code",
   "execution_count": 14,
   "metadata": {},
   "outputs": [],
   "source": [
    "#import the vector embeddings\n",
    "topic_vectors = pd.read_csv(\"string.csv\", index_col = 0)\n",
    "popular_subs = pd.read_csv(\"sub_list.csv\", index_col = 0)\n",
    "popular_subs.index = pd.to_datetime(popular_subs.index).strftime('%Y-%m-%d')\n",
    "topic_vectors.index = popular_subs.index\n"
   ]
  },
  {
   "cell_type": "code",
   "execution_count": 302,
   "metadata": {
    "scrolled": true
   },
   "outputs": [],
   "source": [
    "#decompose using PCA\n",
    "from sklearn.decomposition import PCA\n",
    "#pca components k\n",
    "k = 20\n",
    "\n",
    "pca_model = PCA(n_components=k,random_state=0)\n",
    "reduced_X = pca_model.fit_transform(topic_vectors)\n",
    "topic_vectors_reduced = pd.DataFrame(reduced_X, index = topic_vectors.index)\n",
    "\n",
    "vector_btc_ret = btc_ret.join(topic_vectors_reduced, how= \"left\")\n",
    "vector_train = vector_btc_ret[(vector_btc_ret.index > '2021-01-01') & (vector_btc_ret.index <= '2021-09-01')].dropna()\n",
    "vector_test = vector_btc_ret[(vector_btc_ret.index > '2021-09-01')].dropna()"
   ]
  },
  {
   "cell_type": "code",
   "execution_count": 303,
   "metadata": {},
   "outputs": [
    {
     "data": {
      "text/plain": [
       "0.22408283167032772"
      ]
     },
     "execution_count": 303,
     "metadata": {},
     "output_type": "execute_result"
    }
   ],
   "source": [
    "#linear\n",
    "vector_linear_model = LinearRegression().fit(vector_train.iloc[:,1:], vector_train.iloc[:,0])\n",
    "vector_linear_pred = vector_linear_model.predict(vector_test.iloc[:,1:])\n",
    "vector_linear_model.score(vector_test.iloc[:,1:], vector_test.iloc[:,0])"
   ]
  },
  {
   "cell_type": "code",
   "execution_count": 304,
   "metadata": {},
   "outputs": [
    {
     "data": {
      "text/plain": [
       "0.6896551724137931"
      ]
     },
     "execution_count": 304,
     "metadata": {},
     "output_type": "execute_result"
    }
   ],
   "source": [
    "#logistic\n",
    "vector_logistic_model = LogisticRegression(random_state=0).fit(vector_train.iloc[:,1:], np.sign(vector_train.iloc[:,0]))\n",
    "vector_logistic_pred = vector_logistic_model.predict(vector_test.iloc[:,1:])\n",
    "vector_logistic_model.score(vector_test.iloc[:,1:], np.sign(vector_test.iloc[:,0]))"
   ]
  },
  {
   "cell_type": "code",
   "execution_count": 305,
   "metadata": {},
   "outputs": [
    {
     "name": "stdout",
     "output_type": "stream",
     "text": [
      "accuracy linear:  0.6206896551724138\n",
      "accuracy log:  0.6896551724137931\n"
     ]
    }
   ],
   "source": [
    "pred_comp = vector_test[['ret']].copy()\n",
    "pred_comp['vector_lin'] = vector_linear_pred\n",
    "pred_comp['vector_log'] = vector_logistic_pred\n",
    "\n",
    "print(\"accuracy linear: \", accuracy(pred_comp.ret, pred_comp.vector_lin))\n",
    "print(\"accuracy log: \", accuracy(pred_comp.ret, pred_comp.vector_log))"
   ]
  },
  {
   "cell_type": "code",
   "execution_count": 268,
   "metadata": {
    "scrolled": true
   },
   "outputs": [
    {
     "data": {
      "text/html": [
       "<div>\n",
       "<style scoped>\n",
       "    .dataframe tbody tr th:only-of-type {\n",
       "        vertical-align: middle;\n",
       "    }\n",
       "\n",
       "    .dataframe tbody tr th {\n",
       "        vertical-align: top;\n",
       "    }\n",
       "\n",
       "    .dataframe thead th {\n",
       "        text-align: right;\n",
       "    }\n",
       "</style>\n",
       "<table border=\"1\" class=\"dataframe\">\n",
       "  <thead>\n",
       "    <tr style=\"text-align: right;\">\n",
       "      <th></th>\n",
       "      <th>ret</th>\n",
       "      <th>vector_lin</th>\n",
       "      <th>vector_log</th>\n",
       "    </tr>\n",
       "  </thead>\n",
       "  <tbody>\n",
       "    <tr>\n",
       "      <th>2021-09-02</th>\n",
       "      <td>0.008999</td>\n",
       "      <td>0.031355</td>\n",
       "      <td>1.0</td>\n",
       "    </tr>\n",
       "    <tr>\n",
       "      <th>2021-09-03</th>\n",
       "      <td>0.015131</td>\n",
       "      <td>0.023689</td>\n",
       "      <td>1.0</td>\n",
       "    </tr>\n",
       "    <tr>\n",
       "      <th>2021-09-04</th>\n",
       "      <td>-0.001640</td>\n",
       "      <td>-0.009657</td>\n",
       "      <td>-1.0</td>\n",
       "    </tr>\n",
       "    <tr>\n",
       "      <th>2021-09-05</th>\n",
       "      <td>0.036966</td>\n",
       "      <td>-0.006305</td>\n",
       "      <td>-1.0</td>\n",
       "    </tr>\n",
       "    <tr>\n",
       "      <th>2021-09-06</th>\n",
       "      <td>0.017564</td>\n",
       "      <td>-0.002840</td>\n",
       "      <td>1.0</td>\n",
       "    </tr>\n",
       "    <tr>\n",
       "      <th>2021-09-07</th>\n",
       "      <td>-0.110141</td>\n",
       "      <td>-0.025635</td>\n",
       "      <td>-1.0</td>\n",
       "    </tr>\n",
       "    <tr>\n",
       "      <th>2021-09-08</th>\n",
       "      <td>-0.017788</td>\n",
       "      <td>-0.005071</td>\n",
       "      <td>-1.0</td>\n",
       "    </tr>\n",
       "    <tr>\n",
       "      <th>2021-09-09</th>\n",
       "      <td>0.007374</td>\n",
       "      <td>-0.001222</td>\n",
       "      <td>1.0</td>\n",
       "    </tr>\n",
       "    <tr>\n",
       "      <th>2021-09-10</th>\n",
       "      <td>-0.033374</td>\n",
       "      <td>-0.035328</td>\n",
       "      <td>-1.0</td>\n",
       "    </tr>\n",
       "    <tr>\n",
       "      <th>2021-09-11</th>\n",
       "      <td>0.007143</td>\n",
       "      <td>-0.015055</td>\n",
       "      <td>-1.0</td>\n",
       "    </tr>\n",
       "    <tr>\n",
       "      <th>2021-09-12</th>\n",
       "      <td>0.018870</td>\n",
       "      <td>0.007117</td>\n",
       "      <td>-1.0</td>\n",
       "    </tr>\n",
       "    <tr>\n",
       "      <th>2021-09-13</th>\n",
       "      <td>-0.023390</td>\n",
       "      <td>-0.014771</td>\n",
       "      <td>-1.0</td>\n",
       "    </tr>\n",
       "    <tr>\n",
       "      <th>2021-09-14</th>\n",
       "      <td>0.048490</td>\n",
       "      <td>0.004242</td>\n",
       "      <td>1.0</td>\n",
       "    </tr>\n",
       "    <tr>\n",
       "      <th>2021-09-15</th>\n",
       "      <td>0.021663</td>\n",
       "      <td>0.001724</td>\n",
       "      <td>-1.0</td>\n",
       "    </tr>\n",
       "    <tr>\n",
       "      <th>2021-09-16</th>\n",
       "      <td>-0.008203</td>\n",
       "      <td>-0.017932</td>\n",
       "      <td>-1.0</td>\n",
       "    </tr>\n",
       "    <tr>\n",
       "      <th>2021-09-17</th>\n",
       "      <td>-0.009416</td>\n",
       "      <td>-0.025915</td>\n",
       "      <td>-1.0</td>\n",
       "    </tr>\n",
       "    <tr>\n",
       "      <th>2021-09-18</th>\n",
       "      <td>0.021374</td>\n",
       "      <td>-0.031826</td>\n",
       "      <td>-1.0</td>\n",
       "    </tr>\n",
       "    <tr>\n",
       "      <th>2021-09-19</th>\n",
       "      <td>-0.021911</td>\n",
       "      <td>0.023330</td>\n",
       "      <td>1.0</td>\n",
       "    </tr>\n",
       "    <tr>\n",
       "      <th>2021-09-20</th>\n",
       "      <td>-0.089787</td>\n",
       "      <td>-0.059551</td>\n",
       "      <td>-1.0</td>\n",
       "    </tr>\n",
       "    <tr>\n",
       "      <th>2021-09-21</th>\n",
       "      <td>-0.053318</td>\n",
       "      <td>-0.013311</td>\n",
       "      <td>-1.0</td>\n",
       "    </tr>\n",
       "    <tr>\n",
       "      <th>2021-09-22</th>\n",
       "      <td>0.070126</td>\n",
       "      <td>-0.012965</td>\n",
       "      <td>-1.0</td>\n",
       "    </tr>\n",
       "    <tr>\n",
       "      <th>2021-09-23</th>\n",
       "      <td>0.030350</td>\n",
       "      <td>-0.034377</td>\n",
       "      <td>-1.0</td>\n",
       "    </tr>\n",
       "    <tr>\n",
       "      <th>2021-09-24</th>\n",
       "      <td>-0.045630</td>\n",
       "      <td>0.007433</td>\n",
       "      <td>-1.0</td>\n",
       "    </tr>\n",
       "    <tr>\n",
       "      <th>2021-09-25</th>\n",
       "      <td>-0.003347</td>\n",
       "      <td>-0.013618</td>\n",
       "      <td>-1.0</td>\n",
       "    </tr>\n",
       "    <tr>\n",
       "      <th>2021-09-26</th>\n",
       "      <td>0.011064</td>\n",
       "      <td>-0.022140</td>\n",
       "      <td>-1.0</td>\n",
       "    </tr>\n",
       "    <tr>\n",
       "      <th>2021-09-27</th>\n",
       "      <td>-0.023305</td>\n",
       "      <td>-0.006394</td>\n",
       "      <td>-1.0</td>\n",
       "    </tr>\n",
       "    <tr>\n",
       "      <th>2021-09-28</th>\n",
       "      <td>-0.027167</td>\n",
       "      <td>-0.004480</td>\n",
       "      <td>-1.0</td>\n",
       "    </tr>\n",
       "    <tr>\n",
       "      <th>2021-09-29</th>\n",
       "      <td>0.012092</td>\n",
       "      <td>0.052569</td>\n",
       "      <td>1.0</td>\n",
       "    </tr>\n",
       "    <tr>\n",
       "      <th>2021-09-30</th>\n",
       "      <td>0.055447</td>\n",
       "      <td>0.022458</td>\n",
       "      <td>1.0</td>\n",
       "    </tr>\n",
       "  </tbody>\n",
       "</table>\n",
       "</div>"
      ],
      "text/plain": [
       "                 ret  vector_lin  vector_log\n",
       "2021-09-02  0.008999    0.031355         1.0\n",
       "2021-09-03  0.015131    0.023689         1.0\n",
       "2021-09-04 -0.001640   -0.009657        -1.0\n",
       "2021-09-05  0.036966   -0.006305        -1.0\n",
       "2021-09-06  0.017564   -0.002840         1.0\n",
       "2021-09-07 -0.110141   -0.025635        -1.0\n",
       "2021-09-08 -0.017788   -0.005071        -1.0\n",
       "2021-09-09  0.007374   -0.001222         1.0\n",
       "2021-09-10 -0.033374   -0.035328        -1.0\n",
       "2021-09-11  0.007143   -0.015055        -1.0\n",
       "2021-09-12  0.018870    0.007117        -1.0\n",
       "2021-09-13 -0.023390   -0.014771        -1.0\n",
       "2021-09-14  0.048490    0.004242         1.0\n",
       "2021-09-15  0.021663    0.001724        -1.0\n",
       "2021-09-16 -0.008203   -0.017932        -1.0\n",
       "2021-09-17 -0.009416   -0.025915        -1.0\n",
       "2021-09-18  0.021374   -0.031826        -1.0\n",
       "2021-09-19 -0.021911    0.023330         1.0\n",
       "2021-09-20 -0.089787   -0.059551        -1.0\n",
       "2021-09-21 -0.053318   -0.013311        -1.0\n",
       "2021-09-22  0.070126   -0.012965        -1.0\n",
       "2021-09-23  0.030350   -0.034377        -1.0\n",
       "2021-09-24 -0.045630    0.007433        -1.0\n",
       "2021-09-25 -0.003347   -0.013618        -1.0\n",
       "2021-09-26  0.011064   -0.022140        -1.0\n",
       "2021-09-27 -0.023305   -0.006394        -1.0\n",
       "2021-09-28 -0.027167   -0.004480        -1.0\n",
       "2021-09-29  0.012092    0.052569         1.0\n",
       "2021-09-30  0.055447    0.022458         1.0"
      ]
     },
     "execution_count": 268,
     "metadata": {},
     "output_type": "execute_result"
    }
   ],
   "source": [
    "pred_comp"
   ]
  },
  {
   "cell_type": "code",
   "execution_count": 252,
   "metadata": {},
   "outputs": [
    {
     "name": "stdout",
     "output_type": "stream",
     "text": [
      "positive returns: 0.4583333333333333\n",
      "negative returns: 0.5416666666666666\n"
     ]
    }
   ],
   "source": [
    "#september descriptive stats for comparison\n",
    "print(\"positive returns:\", len(y_test[y_test>0])/len(y_test))\n",
    "print(\"negative returns:\", len(y_test[y_test<0])/len(y_test))"
   ]
  },
  {
   "cell_type": "code",
   "execution_count": null,
   "metadata": {},
   "outputs": [],
   "source": []
  }
 ],
 "metadata": {
  "kernelspec": {
   "display_name": "Python 3",
   "language": "python",
   "name": "python3"
  },
  "language_info": {
   "codemirror_mode": {
    "name": "ipython",
    "version": 3
   },
   "file_extension": ".py",
   "mimetype": "text/x-python",
   "name": "python",
   "nbconvert_exporter": "python",
   "pygments_lexer": "ipython3",
   "version": "3.7.4"
  }
 },
 "nbformat": 4,
 "nbformat_minor": 4
}
