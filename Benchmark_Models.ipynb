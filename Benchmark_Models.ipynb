{
 "cells": [
  {
   "cell_type": "code",
   "execution_count": 1,
   "metadata": {},
   "outputs": [],
   "source": [
    "import numpy as np\n",
    "import pandas as pd"
   ]
  },
  {
   "cell_type": "code",
   "execution_count": 2,
   "metadata": {},
   "outputs": [],
   "source": [
    "from sklearn.metrics import matthews_corrcoef\n",
    "from sklearn.metrics import f1_score\n",
    "from sklearn.metrics import accuracy_score\n",
    "from sklearn.metrics import confusion_matrix\n",
    "\n",
    "#score results\n",
    "def score_model(true, pred, columns = \"\"):\n",
    "    cm = confusion_matrix(true,pred)\n",
    "    l = np.sum(cm)\n",
    "    cm = cm/l\n",
    "    s = [accuracy_score(true, pred), matthews_corrcoef(true, pred), f1_score(true,pred), cm[0,0], cm[1,1],cm[0,1],cm[1,0]]\n",
    "    return pd.DataFrame(data = s, index = ['accuracy', 'matthew_corr', 'f1', 'tn', 'tp','fp','fn'], columns = [columns])\n"
   ]
  },
  {
   "cell_type": "code",
   "execution_count": 4,
   "metadata": {},
   "outputs": [],
   "source": [
    "#import eth price history\n",
    "eth_prices = pd.read_csv(\"eth_prices.csv\", index_col = 0)\n",
    "eth_prices.index = pd.to_datetime(eth_prices.index).strftime('%Y-%m-%d')\n",
    "eth_prices['log_ret'] = np.log(eth_prices.Close/eth_prices.Close.shift(1))\n",
    "eth_ret = eth_prices[[\"log_ret\"]].dropna()\n",
    "\n",
    "#get the right daterange\n",
    "eth_ret_train = eth_ret[(eth_ret.index >= '2014-01-01') & (eth_ret.index < '2021-11-01')].sort_index()\n",
    "\n",
    "topic_vectors = pd.read_csv(\"bitcoin/eth_2014.csv\", index_col = 0)\n",
    "for i in [2015, 2016, 2017,2018,2019,2020, 2021]:\n",
    "    topic_vectors = topic_vectors.append(pd.read_csv(f\"bitcoin/eth_{i}.csv\", index_col = 0))\n",
    "topic_vectors.index = pd.date_range('2014-01-01', periods=len(topic_vectors)).strftime('%Y-%m-%d')\n",
    "topic_vectors = eth_ret_train.join(topic_vectors, how= \"left\").dropna()"
   ]
  },
  {
   "cell_type": "code",
   "execution_count": 21,
   "metadata": {},
   "outputs": [],
   "source": [
    "#decompose using PCA for eth\n",
    "from sklearn.decomposition import PCA\n",
    "#pca components k\n",
    "k = 5\n",
    "\n",
    "pca_model = PCA(n_components=k,random_state=0)\n",
    "reduced_X = pca_model.fit_transform(topic_vectors.iloc[:,1:])\n",
    "topic_vectors_reduced = pd.DataFrame(reduced_X, index = topic_vectors.index)\n",
    "topic_vectors_reduced = eth_ret_train.join(topic_vectors_reduced, how= \"left\").dropna()\n",
    "\n",
    "#get the time series nicely streamlined into the machine learning models\n",
    "rolling_window = 5\n",
    "l = len(topic_vectors)\n",
    "X_data = np.empty([l-rolling_window,rolling_window])\n",
    "for i in range(0,l-rolling_window):\n",
    "    X_data[i] = np.array(topic_vectors_reduced.iloc[i:i+rolling_window,0])\n",
    "X_data = np.concatenate((X_data,topic_vectors_reduced.iloc[rolling_window-1:-1,1:]),axis=1)\n",
    "y_data = np.array(topic_vectors_reduced.iloc[rolling_window:,0])\n",
    "\n",
    "X = X_data[:-304]\n",
    "#X_tune = X_data[-500:-300]\n",
    "X_test = X_data[-304:]\n",
    "\n",
    "\n",
    "y = y_data[:-304]\n",
    "#y_tune = y_data[-500:-300]\n",
    "y_test = y_data[-304:]"
   ]
  },
  {
   "cell_type": "code",
   "execution_count": 23,
   "metadata": {},
   "outputs": [],
   "source": [
    "#import btc price history\n",
    "btc_prices = pd.read_csv(\"btc_prices.csv\", index_col = 0)\n",
    "btc_prices.index = pd.to_datetime(btc_prices.index).strftime('%Y-%m-%d')\n",
    "btc_prices['log_ret'] = np.log(btc_prices.Close/btc_prices.Close.shift(1))\n",
    "btc_ret = btc_prices[[\"log_ret\"]].dropna()\n",
    "\n",
    "#get the right daterange\n",
    "btc_ret_train = btc_ret[(btc_ret.index >= '2016-01-01') & (btc_ret.index < '2021-11-01')].sort_index()\n",
    "\n",
    "topic_vectors = pd.read_csv(\"bitcoin/btc_2016.csv\", index_col = 0)\n",
    "for i in [2017,2018,2019,2020, 2021]:\n",
    "    topic_vectors = topic_vectors.append(pd.read_csv(f\"bitcoin/btc_{i}.csv\", index_col = 0))\n",
    "topic_vectors.index = pd.date_range('2016-01-01', periods=len(topic_vectors)).strftime('%Y-%m-%d')\n",
    "topic_vectors = btc_ret_train.join(topic_vectors, how= \"left\").dropna()"
   ]
  },
  {
   "cell_type": "code",
   "execution_count": 40,
   "metadata": {},
   "outputs": [],
   "source": [
    "#decompose using PCA for btc\n",
    "from sklearn.decomposition import PCA\n",
    "#pca components k\n",
    "k = 5\n",
    "\n",
    "pca_model = PCA(n_components=k,random_state=0)\n",
    "reduced_X = pca_model.fit_transform(topic_vectors.iloc[:,1:])\n",
    "topic_vectors_reduced = pd.DataFrame(reduced_X, index = topic_vectors.index)\n",
    "topic_vectors_reduced = btc_ret_train.join(topic_vectors_reduced, how= \"left\").dropna()\n",
    "\n",
    "#get the time series nicely streamlined into the machine learning models\n",
    "rolling_window = 5\n",
    "l = len(topic_vectors)\n",
    "X_data = np.empty([l-rolling_window,rolling_window])\n",
    "for i in range(0,l-rolling_window):\n",
    "    X_data[i] = np.array(topic_vectors_reduced.iloc[i:i+rolling_window,0])\n",
    "X_data = np.concatenate((X_data,topic_vectors_reduced.iloc[rolling_window-1:-1,1:]),axis=1)\n",
    "y_data = np.array(topic_vectors_reduced.iloc[rolling_window:,0])\n",
    "\n",
    "train_cutoff = -3200\n",
    "test_cutoff = -304\n",
    "\n",
    "X = X_data[train_cutoff:-608]\n",
    "#X_tune = X_data[-200:-100]\n",
    "X_test = X_data[-608:test_cutoff]\n",
    "\n",
    "\n",
    "y = y_data[train_cutoff:-608]\n",
    "#y_tune = y_data[-200:-100]\n",
    "y_test = y_data[-608:test_cutoff]"
   ]
  },
  {
   "cell_type": "code",
   "execution_count": 41,
   "metadata": {},
   "outputs": [
    {
     "name": "stderr",
     "output_type": "stream",
     "text": [
      "C:\\Users\\JAMALTHABEAST\\Anaconda3\\lib\\site-packages\\ipykernel_launcher.py:24: FutureWarning: In a future version of pandas all arguments of concat except for the argument 'objs' will be keyword-only\n"
     ]
    },
    {
     "data": {
      "text/html": [
       "<div>\n",
       "<style scoped>\n",
       "    .dataframe tbody tr th:only-of-type {\n",
       "        vertical-align: middle;\n",
       "    }\n",
       "\n",
       "    .dataframe tbody tr th {\n",
       "        vertical-align: top;\n",
       "    }\n",
       "\n",
       "    .dataframe thead th {\n",
       "        text-align: right;\n",
       "    }\n",
       "</style>\n",
       "<table border=\"1\" class=\"dataframe\">\n",
       "  <thead>\n",
       "    <tr style=\"text-align: right;\">\n",
       "      <th></th>\n",
       "      <th>linear</th>\n",
       "      <th>log</th>\n",
       "      <th>vector_linear</th>\n",
       "      <th>vector_logistic</th>\n",
       "    </tr>\n",
       "  </thead>\n",
       "  <tbody>\n",
       "    <tr>\n",
       "      <th>accuracy</th>\n",
       "      <td>0.572368</td>\n",
       "      <td>0.529605</td>\n",
       "      <td>0.552632</td>\n",
       "      <td>0.496711</td>\n",
       "    </tr>\n",
       "    <tr>\n",
       "      <th>matthew_corr</th>\n",
       "      <td>0.040857</td>\n",
       "      <td>0.058880</td>\n",
       "      <td>0.079068</td>\n",
       "      <td>0.029856</td>\n",
       "    </tr>\n",
       "    <tr>\n",
       "      <th>f1</th>\n",
       "      <td>0.714912</td>\n",
       "      <td>0.562691</td>\n",
       "      <td>0.617978</td>\n",
       "      <td>0.470588</td>\n",
       "    </tr>\n",
       "    <tr>\n",
       "      <th>tn</th>\n",
       "      <td>0.036184</td>\n",
       "      <td>0.226974</td>\n",
       "      <td>0.190789</td>\n",
       "      <td>0.273026</td>\n",
       "    </tr>\n",
       "    <tr>\n",
       "      <th>tp</th>\n",
       "      <td>0.536184</td>\n",
       "      <td>0.302632</td>\n",
       "      <td>0.361842</td>\n",
       "      <td>0.223684</td>\n",
       "    </tr>\n",
       "    <tr>\n",
       "      <th>fp</th>\n",
       "      <td>0.391447</td>\n",
       "      <td>0.200658</td>\n",
       "      <td>0.236842</td>\n",
       "      <td>0.154605</td>\n",
       "    </tr>\n",
       "    <tr>\n",
       "      <th>fn</th>\n",
       "      <td>0.036184</td>\n",
       "      <td>0.269737</td>\n",
       "      <td>0.210526</td>\n",
       "      <td>0.348684</td>\n",
       "    </tr>\n",
       "  </tbody>\n",
       "</table>\n",
       "</div>"
      ],
      "text/plain": [
       "                linear       log  vector_linear  vector_logistic\n",
       "accuracy      0.572368  0.529605       0.552632         0.496711\n",
       "matthew_corr  0.040857  0.058880       0.079068         0.029856\n",
       "f1            0.714912  0.562691       0.617978         0.470588\n",
       "tn            0.036184  0.226974       0.190789         0.273026\n",
       "tp            0.536184  0.302632       0.361842         0.223684\n",
       "fp            0.391447  0.200658       0.236842         0.154605\n",
       "fn            0.036184  0.269737       0.210526         0.348684"
      ]
     },
     "execution_count": 41,
     "metadata": {},
     "output_type": "execute_result"
    }
   ],
   "source": [
    "#linear regression\n",
    "from sklearn.linear_model import LinearRegression\n",
    "\n",
    "def no_text(x):\n",
    "    return np.squeeze(x[:,0:5])\n",
    "\n",
    "linear_model = LinearRegression().fit(no_text(X), y)\n",
    "linear_pred = linear_model.predict(no_text(X_test))>0\n",
    "\n",
    "#Logistic Regression\n",
    "from sklearn.linear_model import LogisticRegression\n",
    "log_model = LogisticRegression(penalty = 'none', random_state =0, class_weight=\"balanced\").fit(no_text(X), y>0)\n",
    "log_pred = log_model.predict(no_text(X_test))\n",
    "\n",
    "#linear with vector embeddings\n",
    "vector_linear_model = LinearRegression().fit(X, y)\n",
    "vector_linear_pred = vector_linear_model.predict(X_test)>0\n",
    "\n",
    "#logistic with vector embeddings\n",
    "vector_logistic_model = LogisticRegression(random_state=0, class_weight=\"balanced\").fit(X,np.sign(y))\n",
    "vector_logistic_pred = vector_logistic_model.predict(X_test)>0\n",
    "\n",
    "benchmarks = ['linear', 'log', 'vector_linear','vector_logistic']\n",
    "pd.concat([score_model((y_test>0), eval(i+\"_pred\"),i ) for i in benchmarks], 1)"
   ]
  },
  {
   "cell_type": "code",
   "execution_count": 4,
   "metadata": {},
   "outputs": [],
   "source": [
    "#linear regression\n",
    "from sklearn.linear_model import LinearRegression\n",
    "\n",
    "def no_text(x):\n",
    "    return np.squeeze(x[:,0:5])\n",
    "\n",
    "linear_model = LinearRegression().fit(no_text(X), y)\n",
    "linear_pred = linear_model.predict(no_text(X_test))>0"
   ]
  },
  {
   "cell_type": "code",
   "execution_count": 5,
   "metadata": {},
   "outputs": [],
   "source": [
    "#Logistic Regression\n",
    "from sklearn.linear_model import LogisticRegression\n",
    "#weights to account for imbalance\n",
    "weights = {0:2, 1:1}\n",
    "log_model = LogisticRegression(solver='lbfgs', random_state =0, class_weight=\"balanced\").fit(no_text(X), y>0)\n",
    "log_pred = log_model.predict(no_text(X_test))"
   ]
  },
  {
   "cell_type": "markdown",
   "metadata": {},
   "source": [
    "With Vector Embeddings now"
   ]
  },
  {
   "cell_type": "code",
   "execution_count": 12,
   "metadata": {},
   "outputs": [],
   "source": [
    "#linear with vector embeddings\n",
    "vector_linear_model = LinearRegression().fit(X, y)\n",
    "vector_linear_pred = vector_linear_model.predict(X_test)>0\n",
    "#vector_linear_model.score(X_tune, y_tune)"
   ]
  },
  {
   "cell_type": "code",
   "execution_count": 13,
   "metadata": {},
   "outputs": [],
   "source": [
    "#logistic with vector embeddings\n",
    "vector_logistic_model = LogisticRegression(random_state=0).fit(X,np.sign(y))\n",
    "vector_logistic_pred = vector_logistic_model.predict(X_test)>0\n",
    "#vector_logistic_model.score(X_tune, np.sign(y_tune))"
   ]
  },
  {
   "cell_type": "code",
   "execution_count": 165,
   "metadata": {},
   "outputs": [
    {
     "data": {
      "text/html": [
       "<div>\n",
       "<style scoped>\n",
       "    .dataframe tbody tr th:only-of-type {\n",
       "        vertical-align: middle;\n",
       "    }\n",
       "\n",
       "    .dataframe tbody tr th {\n",
       "        vertical-align: top;\n",
       "    }\n",
       "\n",
       "    .dataframe thead th {\n",
       "        text-align: right;\n",
       "    }\n",
       "</style>\n",
       "<table border=\"1\" class=\"dataframe\">\n",
       "  <thead>\n",
       "    <tr style=\"text-align: right;\">\n",
       "      <th></th>\n",
       "      <th>linear</th>\n",
       "      <th>log</th>\n",
       "      <th>vector_linear</th>\n",
       "      <th>vector_logistic</th>\n",
       "    </tr>\n",
       "  </thead>\n",
       "  <tbody>\n",
       "    <tr>\n",
       "      <th>accuracy</th>\n",
       "      <td>0.566667</td>\n",
       "      <td>0.543333</td>\n",
       "      <td>0.506667</td>\n",
       "      <td>0.530000</td>\n",
       "    </tr>\n",
       "    <tr>\n",
       "      <th>matthew_corr</th>\n",
       "      <td>0.039039</td>\n",
       "      <td>-0.085749</td>\n",
       "      <td>-0.023358</td>\n",
       "      <td>-0.023379</td>\n",
       "    </tr>\n",
       "    <tr>\n",
       "      <th>f1</th>\n",
       "      <td>0.694836</td>\n",
       "      <td>0.696231</td>\n",
       "      <td>0.586592</td>\n",
       "      <td>0.648379</td>\n",
       "    </tr>\n",
       "    <tr>\n",
       "      <th>tn</th>\n",
       "      <td>0.073333</td>\n",
       "      <td>0.020000</td>\n",
       "      <td>0.156667</td>\n",
       "      <td>0.096667</td>\n",
       "    </tr>\n",
       "    <tr>\n",
       "      <th>tp</th>\n",
       "      <td>0.493333</td>\n",
       "      <td>0.523333</td>\n",
       "      <td>0.350000</td>\n",
       "      <td>0.433333</td>\n",
       "    </tr>\n",
       "    <tr>\n",
       "      <th>fp</th>\n",
       "      <td>0.350000</td>\n",
       "      <td>0.403333</td>\n",
       "      <td>0.266667</td>\n",
       "      <td>0.326667</td>\n",
       "    </tr>\n",
       "    <tr>\n",
       "      <th>fn</th>\n",
       "      <td>0.083333</td>\n",
       "      <td>0.053333</td>\n",
       "      <td>0.226667</td>\n",
       "      <td>0.143333</td>\n",
       "    </tr>\n",
       "  </tbody>\n",
       "</table>\n",
       "</div>"
      ],
      "text/plain": [
       "                linear       log  vector_linear  vector_logistic\n",
       "accuracy      0.566667  0.543333       0.506667         0.530000\n",
       "matthew_corr  0.039039 -0.085749      -0.023358        -0.023379\n",
       "f1            0.694836  0.696231       0.586592         0.648379\n",
       "tn            0.073333  0.020000       0.156667         0.096667\n",
       "tp            0.493333  0.523333       0.350000         0.433333\n",
       "fp            0.350000  0.403333       0.266667         0.326667\n",
       "fn            0.083333  0.053333       0.226667         0.143333"
      ]
     },
     "execution_count": 165,
     "metadata": {},
     "output_type": "execute_result"
    }
   ],
   "source": [
    "benchmarks = ['linear', 'log', 'vector_linear','vector_logistic']\n",
    "pd.concat([score_model((y_test>0), eval(i+\"_pred\"),i ) for i in benchmarks], 1)"
   ]
  },
  {
   "cell_type": "code",
   "execution_count": 123,
   "metadata": {},
   "outputs": [
    {
     "data": {
      "text/plain": [
       "100"
      ]
     },
     "execution_count": 123,
     "metadata": {},
     "output_type": "execute_result"
    }
   ],
   "source": [
    "np.sum(confusion_matrix(log_pred, y_test>0))"
   ]
  },
  {
   "cell_type": "code",
   "execution_count": null,
   "metadata": {},
   "outputs": [],
   "source": []
  }
 ],
 "metadata": {
  "kernelspec": {
   "display_name": "Python 3 (ipykernel)",
   "language": "python",
   "name": "python3"
  },
  "language_info": {
   "codemirror_mode": {
    "name": "ipython",
    "version": 3
   },
   "file_extension": ".py",
   "mimetype": "text/x-python",
   "name": "python",
   "nbconvert_exporter": "python",
   "pygments_lexer": "ipython3",
   "version": "3.7.11"
  }
 },
 "nbformat": 4,
 "nbformat_minor": 4
}
