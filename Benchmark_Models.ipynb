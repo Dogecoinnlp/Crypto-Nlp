{
 "cells": [
  {
   "cell_type": "code",
   "execution_count": 2,
   "metadata": {},
   "outputs": [],
   "source": [
    "import numpy as np\n",
    "import pandas as pd"
   ]
  },
  {
   "cell_type": "code",
   "execution_count": 3,
   "metadata": {},
   "outputs": [],
   "source": [
    "#import btc price history\n",
    "btc_prices = pd.read_csv(\"btc_prices.csv\", index_col = 0)\n",
    "btc_prices.index = pd.to_datetime(btc_prices.index).strftime('%Y-%m-%d')\n",
    "btc_prices['log_ret'] = np.log(btc_prices.Close/btc_prices.Close.shift(1))\n",
    "btc_ret = btc_prices[[\"log_ret\"]].dropna()\n",
    "\n",
    "#get the right daterange\n",
    "btc_ret_train = btc_ret[(btc_ret.index >= '2016-01-01') & (btc_ret.index < '2021-01-01')].sort_index()\n"
   ]
  },
  {
   "cell_type": "code",
   "execution_count": 4,
   "metadata": {},
   "outputs": [],
   "source": [
    "topic_vectors = pd.read_csv(\"bitcoin/btc_2016.csv\", index_col = 0)\n",
    "for i in [2017,2018,2019,2020]:\n",
    "    topic_vectors = topic_vectors.append(pd.read_csv(f\"bitcoin/btc_{i}.csv\", index_col = 0))\n",
    "topic_vectors.index = pd.date_range('2016-01-01', periods=len(topic_vectors))\n",
    "topic_vectors = btc_ret_train.join(topic_vectors, how= \"left\").dropna()"
   ]
  },
  {
   "cell_type": "code",
   "execution_count": 5,
   "metadata": {},
   "outputs": [],
   "source": [
    "#decompose using PCA\n",
    "from sklearn.decomposition import PCA\n",
    "#pca components k\n",
    "k = 30\n",
    "\n",
    "pca_model = PCA(n_components=k,random_state=0)\n",
    "reduced_X = pca_model.fit_transform(topic_vectors.iloc[:,1:])\n",
    "topic_vectors_reduced = pd.DataFrame(reduced_X, index = topic_vectors.index)\n",
    "topic_vectors_reduced = btc_ret_train.join(topic_vectors_reduced, how= \"left\").dropna()\n",
    "\n",
    "#get the time series nicely streamlined into the machine learning models\n",
    "rolling_window = 5\n",
    "l = len(topic_vectors)\n",
    "X_data = np.empty([l-rolling_window,rolling_window])\n",
    "for i in range(0,l-rolling_window):\n",
    "    X_data[i] = np.array(topic_vectors_reduced.iloc[i:i+rolling_window,0])\n",
    "X_data = np.concatenate((X_data,topic_vectors_reduced.iloc[rolling_window-1:-1,1:]),axis=1)\n",
    "y_data = np.array(topic_vectors_reduced.iloc[rolling_window:,0])\n",
    "\n",
    "X = X_data[:-200]\n",
    "X_tune = X_data[-200:-100]\n",
    "X_test = X_data[-100:]\n",
    "\n",
    "\n",
    "y = y_data[:-200]\n",
    "y_tune = y_data[-200:-100]\n",
    "y_test = y_data[-100:]"
   ]
  },
  {
   "cell_type": "code",
   "execution_count": 44,
   "metadata": {},
   "outputs": [],
   "source": [
    "#linear regression\n",
    "from sklearn.linear_model import LinearRegression\n",
    "\n",
    "def no_text(x):\n",
    "    return np.squeeze(x[:,0:5])\n",
    "\n",
    "linear_model = LinearRegression().fit(no_text(X), y)\n",
    "linear_pred = linear_model.predict(no_text(X_test))>0"
   ]
  },
  {
   "cell_type": "code",
   "execution_count": 118,
   "metadata": {},
   "outputs": [],
   "source": [
    "#Logistic Regression\n",
    "from sklearn.linear_model import LogisticRegression\n",
    "log_model = LogisticRegression(penalty = 'none', random_state =0).fit(no_text(X), y>0)\n",
    "log_pred = log_model.predict(no_text(X_test))"
   ]
  },
  {
   "cell_type": "code",
   "execution_count": 104,
   "metadata": {},
   "outputs": [
    {
     "data": {
      "text/plain": [
       "(1618, 35)"
      ]
     },
     "execution_count": 104,
     "metadata": {},
     "output_type": "execute_result"
    }
   ],
   "source": [
    "X.shape"
   ]
  },
  {
   "cell_type": "markdown",
   "metadata": {},
   "source": [
    "With Vector Embeddings now"
   ]
  },
  {
   "cell_type": "code",
   "execution_count": 46,
   "metadata": {},
   "outputs": [
    {
     "data": {
      "text/plain": [
       "0.01320151509287848"
      ]
     },
     "execution_count": 46,
     "metadata": {},
     "output_type": "execute_result"
    }
   ],
   "source": [
    "#linear with vector embeddings\n",
    "vector_linear_model = LinearRegression().fit(X, y)\n",
    "vector_linear_pred = vector_linear_model.predict(X_test)>0\n",
    "vector_linear_model.score(X_tune, y_tune)"
   ]
  },
  {
   "cell_type": "code",
   "execution_count": 47,
   "metadata": {},
   "outputs": [
    {
     "data": {
      "text/plain": [
       "0.49"
      ]
     },
     "execution_count": 47,
     "metadata": {},
     "output_type": "execute_result"
    }
   ],
   "source": [
    "#logistic with vector embeddings\n",
    "vector_logistic_model = LogisticRegression(random_state=0).fit(X,np.sign(y))\n",
    "vector_logistic_pred = vector_logistic_model.predict(X_test)>0\n",
    "vector_logistic_model.score(X_tune, np.sign(y_tune))"
   ]
  },
  {
   "cell_type": "code",
   "execution_count": 114,
   "metadata": {},
   "outputs": [],
   "source": [
    "from sklearn.metrics import matthews_corrcoef\n",
    "from sklearn.metrics import f1_score\n",
    "from sklearn.metrics import accuracy_score\n",
    "from sklearn.metrics import confusion_matrix\n"
   ]
  },
  {
   "cell_type": "code",
   "execution_count": 124,
   "metadata": {},
   "outputs": [],
   "source": [
    "#score results\n",
    "def score_model(true, pred, columns = \"\"):\n",
    "    cm = confusion_matrix(true,pred)\n",
    "    l = np.sum(cm)\n",
    "    cm = cm/l\n",
    "    s = [accuracy_score(true, pred), matthews_corrcoef(true, pred), f1_score(true,pred), cm[0,0], cm[1,1],cm[0,1],cm[1,0]]\n",
    "    return pd.DataFrame(data = s, index = ['accuracy', 'matthew_corr', 'f1', 'tn', 'tp','fp','fn'], columns = [columns])\n"
   ]
  },
  {
   "cell_type": "code",
   "execution_count": 125,
   "metadata": {},
   "outputs": [
    {
     "data": {
      "text/html": [
       "<div>\n",
       "<style scoped>\n",
       "    .dataframe tbody tr th:only-of-type {\n",
       "        vertical-align: middle;\n",
       "    }\n",
       "\n",
       "    .dataframe tbody tr th {\n",
       "        vertical-align: top;\n",
       "    }\n",
       "\n",
       "    .dataframe thead th {\n",
       "        text-align: right;\n",
       "    }\n",
       "</style>\n",
       "<table border=\"1\" class=\"dataframe\">\n",
       "  <thead>\n",
       "    <tr style=\"text-align: right;\">\n",
       "      <th></th>\n",
       "      <th>linear</th>\n",
       "      <th>log</th>\n",
       "      <th>vector_linear</th>\n",
       "      <th>vector_logistic</th>\n",
       "    </tr>\n",
       "  </thead>\n",
       "  <tbody>\n",
       "    <tr>\n",
       "      <th>accuracy</th>\n",
       "      <td>0.620000</td>\n",
       "      <td>0.640000</td>\n",
       "      <td>0.640000</td>\n",
       "      <td>0.640000</td>\n",
       "    </tr>\n",
       "    <tr>\n",
       "      <th>matthew_corr</th>\n",
       "      <td>0.033283</td>\n",
       "      <td>0.131145</td>\n",
       "      <td>0.254785</td>\n",
       "      <td>0.179374</td>\n",
       "    </tr>\n",
       "    <tr>\n",
       "      <th>f1</th>\n",
       "      <td>0.756410</td>\n",
       "      <td>0.777778</td>\n",
       "      <td>0.700000</td>\n",
       "      <td>0.739130</td>\n",
       "    </tr>\n",
       "    <tr>\n",
       "      <th>tn</th>\n",
       "      <td>0.030000</td>\n",
       "      <td>0.010000</td>\n",
       "      <td>0.220000</td>\n",
       "      <td>0.130000</td>\n",
       "    </tr>\n",
       "    <tr>\n",
       "      <th>tp</th>\n",
       "      <td>0.590000</td>\n",
       "      <td>0.630000</td>\n",
       "      <td>0.420000</td>\n",
       "      <td>0.510000</td>\n",
       "    </tr>\n",
       "    <tr>\n",
       "      <th>fp</th>\n",
       "      <td>0.340000</td>\n",
       "      <td>0.360000</td>\n",
       "      <td>0.150000</td>\n",
       "      <td>0.240000</td>\n",
       "    </tr>\n",
       "    <tr>\n",
       "      <th>fn</th>\n",
       "      <td>0.040000</td>\n",
       "      <td>0.000000</td>\n",
       "      <td>0.210000</td>\n",
       "      <td>0.120000</td>\n",
       "    </tr>\n",
       "  </tbody>\n",
       "</table>\n",
       "</div>"
      ],
      "text/plain": [
       "                linear       log  vector_linear  vector_logistic\n",
       "accuracy      0.620000  0.640000       0.640000         0.640000\n",
       "matthew_corr  0.033283  0.131145       0.254785         0.179374\n",
       "f1            0.756410  0.777778       0.700000         0.739130\n",
       "tn            0.030000  0.010000       0.220000         0.130000\n",
       "tp            0.590000  0.630000       0.420000         0.510000\n",
       "fp            0.340000  0.360000       0.150000         0.240000\n",
       "fn            0.040000  0.000000       0.210000         0.120000"
      ]
     },
     "execution_count": 125,
     "metadata": {},
     "output_type": "execute_result"
    }
   ],
   "source": [
    "benchmarks = ['linear', 'log', 'vector_linear','vector_logistic']\n",
    "pd.concat([score_model((y_test>0), eval(i+\"_pred\"),i ) for i in benchmarks], 1)"
   ]
  },
  {
   "cell_type": "code",
   "execution_count": 123,
   "metadata": {},
   "outputs": [
    {
     "data": {
      "text/plain": [
       "100"
      ]
     },
     "execution_count": 123,
     "metadata": {},
     "output_type": "execute_result"
    }
   ],
   "source": [
    "np.sum(confusion_matrix(log_pred, y_test>0))"
   ]
  },
  {
   "cell_type": "code",
   "execution_count": null,
   "metadata": {},
   "outputs": [],
   "source": []
  }
 ],
 "metadata": {
  "kernelspec": {
   "display_name": "Python 3",
   "language": "python",
   "name": "python3"
  },
  "language_info": {
   "codemirror_mode": {
    "name": "ipython",
    "version": 3
   },
   "file_extension": ".py",
   "mimetype": "text/x-python",
   "name": "python",
   "nbconvert_exporter": "python",
   "pygments_lexer": "ipython3",
   "version": "3.7.4"
  }
 },
 "nbformat": 4,
 "nbformat_minor": 4
}
