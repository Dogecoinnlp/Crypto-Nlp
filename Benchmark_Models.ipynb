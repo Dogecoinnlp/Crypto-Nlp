{
 "cells": [
  {
   "cell_type": "code",
   "execution_count": 1,
   "metadata": {},
   "outputs": [],
   "source": [
    "import numpy as np\n",
    "import pandas as pd"
   ]
  },
  {
   "cell_type": "code",
   "execution_count": 2,
   "metadata": {},
   "outputs": [],
   "source": [
    "from sklearn.metrics import matthews_corrcoef\n",
    "from sklearn.metrics import f1_score\n",
    "from sklearn.metrics import accuracy_score\n",
    "from sklearn.metrics import confusion_matrix\n",
    "\n",
    "#score results\n",
    "def score_model(true, pred, columns = \"\"):\n",
    "    cm = confusion_matrix(true,pred)\n",
    "    l = np.sum(cm)\n",
    "    cm = cm/l\n",
    "    s = [accuracy_score(true, pred), matthews_corrcoef(true, pred), f1_score(true,pred), cm[0,0], cm[1,1],cm[0,1],cm[1,0]]\n",
    "    return pd.DataFrame(data = s, index = ['accuracy', 'matthew_corr', 'f1', 'tn', 'tp','fp','fn'], columns = [columns])\n"
   ]
  },
  {
   "cell_type": "code",
   "execution_count": 3,
   "metadata": {},
   "outputs": [],
   "source": [
    "#import eth price history\n",
    "eth_prices = pd.read_csv(\"eth_prices.csv\", index_col = 0)\n",
    "eth_prices.index = pd.to_datetime(eth_prices.index).strftime('%Y-%m-%d')\n",
    "eth_prices['log_ret'] = np.log(eth_prices.Close/eth_prices.Close.shift(1))\n",
    "eth_ret = eth_prices[[\"log_ret\"]].dropna()\n",
    "\n",
    "#get the right daterange\n",
    "eth_ret_train = eth_ret[(eth_ret.index >= '2014-01-01') & (eth_ret.index < '2021-11-01')].sort_index()\n",
    "\n",
    "topic_vectors = pd.read_csv(\"bitcoin/eth_2014.csv\", index_col = 0)\n",
    "for i in [2015, 2016, 2017,2018,2019,2020, 2021]:\n",
    "    topic_vectors = topic_vectors.append(pd.read_csv(f\"bitcoin/eth_{i}.csv\", index_col = 0))\n",
    "topic_vectors.index = pd.date_range('2014-01-01', periods=len(topic_vectors)).strftime('%Y-%m-%d')\n",
    "topic_vectors = eth_ret_train.join(topic_vectors, how= \"left\").dropna()"
   ]
  },
  {
   "cell_type": "code",
   "execution_count": 4,
   "metadata": {},
   "outputs": [],
   "source": [
    "#decompose using PCA for eth\n",
    "from sklearn.decomposition import PCA\n",
    "#pca components k\n",
    "k = 5\n",
    "\n",
    "pca_model = PCA(n_components=k,random_state=0)\n",
    "reduced_X = pca_model.fit_transform(topic_vectors.iloc[:,1:])\n",
    "topic_vectors_reduced = pd.DataFrame(reduced_X, index = topic_vectors.index)\n",
    "topic_vectors_reduced = eth_ret_train.join(topic_vectors_reduced, how= \"left\").dropna()\n",
    "\n",
    "#get the time series nicely streamlined into the machine learning models\n",
    "rolling_window = 5\n",
    "l = len(topic_vectors)\n",
    "X_data = np.empty([l-rolling_window,rolling_window])\n",
    "for i in range(0,l-rolling_window):\n",
    "    X_data[i] = np.array(topic_vectors_reduced.iloc[i:i+rolling_window,0])\n",
    "X_data = np.concatenate((X_data,topic_vectors_reduced.iloc[rolling_window-1:-1,1:]),axis=1)\n",
    "y_data = np.array(topic_vectors_reduced.iloc[rolling_window:,0])\n",
    "\n",
    "X = X_data[:-304]\n",
    "#X_tune = X_data[-500:-300]\n",
    "X_test = X_data[-304:]\n",
    "\n",
    "\n",
    "y = y_data[:-304]\n",
    "#y_tune = y_data[-500:-300]\n",
    "y_test = y_data[-304:]"
   ]
  },
  {
   "cell_type": "code",
   "execution_count": 3,
   "metadata": {},
   "outputs": [],
   "source": [
    "#import btc price history\n",
    "btc_prices = pd.read_csv(\"btc_prices.csv\", index_col = 0)\n",
    "btc_prices.index = pd.to_datetime(btc_prices.index).strftime('%Y-%m-%d')\n",
    "btc_prices['log_ret'] = np.log(btc_prices.Close/btc_prices.Close.shift(1))\n",
    "btc_ret = btc_prices[[\"log_ret\"]].dropna()\n",
    "\n",
    "#get the right daterange\n",
    "btc_ret_train = btc_ret[(btc_ret.index >= '2016-01-01') & (btc_ret.index < '2021-11-01')].sort_index()\n",
    "\n",
    "topic_vectors = pd.read_csv(\"bitcoin/btc_2016.csv\", index_col = 0)\n",
    "for i in [2017,2018,2019,2020, 2021]:\n",
    "    topic_vectors = topic_vectors.append(pd.read_csv(f\"bitcoin/btc_{i}.csv\", index_col = 0))\n",
    "topic_vectors.index = pd.date_range('2016-01-01', periods=len(topic_vectors)).strftime('%Y-%m-%d')\n",
    "topic_vectors = btc_ret_train.join(topic_vectors, how= \"left\").dropna()"
   ]
  },
  {
   "cell_type": "code",
   "execution_count": 4,
   "metadata": {},
   "outputs": [],
   "source": [
    "#decompose using PCA for btc\n",
    "from sklearn.decomposition import PCA\n",
    "#pca components k\n",
    "k = 5\n",
    "\n",
    "pca_model = PCA(n_components=k,random_state=0)\n",
    "reduced_X = pca_model.fit_transform(topic_vectors.iloc[:,1:])\n",
    "topic_vectors_reduced = pd.DataFrame(reduced_X, index = topic_vectors.index)\n",
    "topic_vectors_reduced = btc_ret_train.join(topic_vectors_reduced, how= \"left\").dropna()\n",
    "\n",
    "#get the time series nicely streamlined into the machine learning models\n",
    "rolling_window = 5\n",
    "l = len(topic_vectors)\n",
    "X_data = np.empty([l-rolling_window,rolling_window])\n",
    "for i in range(0,l-rolling_window):\n",
    "    X_data[i] = np.array(topic_vectors_reduced.iloc[i:i+rolling_window,0])\n",
    "X_data = np.concatenate((X_data,topic_vectors_reduced.iloc[rolling_window-1:-1,1:]),axis=1)\n",
    "y_data = np.array(topic_vectors_reduced.iloc[rolling_window:,0])\n",
    "\n",
    "train_cutoff = -3200\n",
    "test_cutoff = -304\n",
    "\n",
    "X = X_data[train_cutoff:-608]\n",
    "#X_tune = X_data[-200:-100]\n",
    "X_test = X_data[-608:test_cutoff]\n",
    "\n",
    "\n",
    "y = y_data[train_cutoff:-608]\n",
    "#y_tune = y_data[-200:-100]\n",
    "y_test = y_data[-608:test_cutoff]"
   ]
  },
  {
   "cell_type": "code",
   "execution_count": null,
   "metadata": {},
   "outputs": [],
   "source": [
    "#linear regression\n",
    "from sklearn.linear_model import LinearRegression\n",
    "\n",
    "def no_text(x):\n",
    "    return np.squeeze(x[:,0:5])\n",
    "\n",
    "linear_model = LinearRegression().fit(no_text(X), y)\n",
    "linear_pred = linear_model.predict(no_text(X_test))>0\n",
    "\n",
    "#Logistic Regression\n",
    "from sklearn.linear_model import LogisticRegression\n",
    "log_model = LogisticRegression(penalty = 'none', random_state =0, class_weight=\"balanced\").fit(no_text(X), y>0)\n",
    "log_pred = log_model.predict(no_text(X_test))\n",
    "\n",
    "#linear with vector embeddings\n",
    "vector_linear_model = LinearRegression().fit(X, y)\n",
    "vector_linear_pred = vector_linear_model.predict(X_test)>0\n",
    "\n",
    "#logistic with vector embeddings\n",
    "vector_logistic_model = LogisticRegression(random_state=0, class_weight=\"balanced\").fit(X,np.sign(y))\n",
    "vector_logistic_pred = vector_logistic_model.predict(X_test)>0\n",
    "\n",
    "benchmarks = ['linear', 'log', 'vector_linear','vector_logistic']\n",
    "pd.concat([score_model((y_test>0), eval(i+\"_pred\"),i ) for i in benchmarks], 1)"
   ]
  }
 ],
 "metadata": {
  "kernelspec": {
   "display_name": "Python 3 (ipykernel)",
   "language": "python",
   "name": "python3"
  },
  "language_info": {
   "codemirror_mode": {
    "name": "ipython",
    "version": 3
   },
   "file_extension": ".py",
   "mimetype": "text/x-python",
   "name": "python",
   "nbconvert_exporter": "python",
   "pygments_lexer": "ipython3",
   "version": "3.7.11"
  }
 },
 "nbformat": 4,
 "nbformat_minor": 4
}
