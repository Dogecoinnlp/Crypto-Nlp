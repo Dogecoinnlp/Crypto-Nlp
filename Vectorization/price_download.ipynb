{
  "nbformat": 4,
  "nbformat_minor": 0,
  "metadata": {
    "colab": {
      "name": "price_download.ipynb",
      "provenance": []
    },
    "kernelspec": {
      "name": "python3",
      "display_name": "Python 3"
    },
    "language_info": {
      "name": "python"
    }
  },
  "cells": [
    {
      "cell_type": "code",
      "metadata": {
        "id": "7-S2bB5kJUHS"
      },
      "source": [
        "import pandas as pd\n",
        "import requests\n",
        "import json\n",
        "\n",
        "def fetch_daily_data(symbol):\n",
        "    pair_split = symbol.split('/')  # symbol must be in format XXX/XXX ie. BTC/EUR\n",
        "    symbol = pair_split[0] + '-' + pair_split[1]\n",
        "    url = f'https://api.pro.coinbase.com/products/{symbol}/candles?granularity=86400'\n",
        "    response = requests.get(url)\n",
        "    if response.status_code == 200:  # check to make sure the response from server is good\n",
        "        data = pd.DataFrame(json.loads(response.text), columns=['unix', 'low', 'high', 'open', 'close', 'volume'])\n",
        "        data['date'] = pd.to_datetime(data['unix'], unit='s')  # convert to a readable date\n",
        "        data['vol_fiat'] = data['volume'] * data['close']      # multiply the BTC volume by closing price to approximate fiat volume\n",
        "\n",
        "        # if we failed to get any data, print an error...otherwise write the file\n",
        "        if data is None:\n",
        "            print(\"Did not return any data from Coinbase for this symbol\")\n",
        "        else:\n",
        "            data.to_csv(f'Coinbase_{pair_split[0] + pair_split[1]}_dailydata.csv', index=False)\n",
        "\n",
        "    else:\n",
        "        print(\"Did not receieve OK response from Coinbase API\")\n",
        "\n",
        "\n",
        "if __name__ == \"__main__\":\n",
        "    # we set which pair we want to retrieve data for\n",
        "    pair = \"BTC/USD\"\n",
        "    fetch_daily_data(symbol=pair)"
      ],
      "execution_count": null,
      "outputs": []
    }
  ]
}