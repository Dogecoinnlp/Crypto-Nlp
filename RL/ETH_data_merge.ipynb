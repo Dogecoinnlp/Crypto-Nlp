{
  "nbformat": 4,
  "nbformat_minor": 0,
  "metadata": {
    "colab": {
      "name": "ETH_data_merge.ipynb",
      "provenance": []
    },
    "kernelspec": {
      "name": "python3",
      "display_name": "Python 3"
    },
    "language_info": {
      "name": "python"
    }
  },
  "cells": [
    {
      "cell_type": "code",
      "metadata": {
        "colab": {
          "base_uri": "https://localhost:8080/"
        },
        "id": "yTjyi1Uqr7B5",
        "outputId": "f540c14a-363a-49bd-a642-308677a8d0a4"
      },
      "source": [
        "!pip install yfinance\n",
        "import yfinance as yf\n",
        "import pandas as pd\n",
        "import numpy as np\n",
        "import datetime\n",
        "\n",
        "hist_eth =  yf.download(  # or pdr.get_data_yahoo(...\n",
        "        # tickers list or string as well\n",
        "        tickers = \"ETH-USD\",\n",
        "\n",
        "        # use \"period\" instead of start/end\n",
        "        # valid periods: 1d,5d,1mo,3mo,6mo,1y,2y,5y,10y,ytd,max\n",
        "        # (optional, default is '1mo')\n",
        "        period = \"max\"\n",
        "\n",
        "    )\n",
        "\n",
        "hist_eth['daily_return'] = hist_eth.loc[:,['Close']].diff()/hist_eth.loc[:,['Close']].shift(1)\n",
        "hist_eth['three_day_return'] = hist_eth.loc[:,['Close']].diff(3)/hist_eth.loc[:,['Close']].shift(3)\n",
        "hist_eth['five_day_return'] = hist_eth.loc[:,['Close']].diff(5)/hist_eth.loc[:,['Close']].shift(5)\n",
        "hist_eth['daily_up'] = hist_eth.daily_return.apply(lambda x: 1 if x>0 else 0)\n",
        "hist_eth['three_day_up'] = hist_eth.three_day_return.apply(lambda x: 1 if x>0 else 0)\n",
        "hist_eth['five_day_up'] = hist_eth.five_day_return.apply(lambda x: 1 if x>0 else 0)\n",
        "#hist_eth['daily_return_lag'] = hist_eth.daily_return.shift(-1)\n",
        "#hist_eth['five_day_return_lag'] = hist_eth.five_day_return.shift(-5)\n",
        "\n",
        "ETH_df_list = ['ETH_from_date_2015-01-01_to_date_2015-12-31.csv','ETH_from_date_2016-01-01_to_date_2016-12-31.csv',\n",
        "               'ETH_from_date_2017-01-01_to_date_2017-12-31.csv','ETH_from_date_2018-01-01_to_date_2018-12-31.csv',\n",
        "               'ETH_from_date_2019-01-01_to_date_2019-12-31.csv','ETH_from_date_2020-01-01_to_date_2020-12-31.csv',\n",
        "               'ETH_from_date_2021-01-01_to_date_2021-10-31.csv']\n",
        "\n",
        "df_list = []\n",
        "for file in ETH_df_list:\n",
        "    temp = pd.read_csv(file,  index_col = 0)\n",
        "    temp.replace([np.inf, -np.inf], np.nan, inplace=True)\n",
        "    temp = temp.fillna(0)\n",
        "\n",
        "    df_list.append(temp)\n",
        "df = pd.concat(df_list, axis = 0, ignore_index = True)\n",
        "\n",
        "start_date = datetime.date(2015, 1, 1)\n",
        "end_date = datetime.date(2021, 10, 31)\n",
        "delta = datetime.timedelta(days=1)\n",
        "\n",
        "date_list = []\n",
        "\n",
        "while start_date <= end_date:\n",
        "    date_string = str(start_date)\n",
        "    date_list.append(date_string)\n",
        "    start_date += delta\n",
        "\n",
        "df.index = date_list\n",
        "df.set_index(pd.to_datetime(df.index), inplace=True)\n",
        "#hist_eth.index = hist_eth.index.map(str)\n",
        "\n",
        "\n",
        "merged_df = pd.merge(df,hist_eth, how='inner', left_index=True, right_index=True)\n",
        "merged_df.to_csv('ETH_merged2.csv')\n",
        "print(merged_df)\n"
      ],
      "execution_count": null,
      "outputs": [
        {
          "output_type": "stream",
          "name": "stdout",
          "text": [
            "Collecting yfinance\n",
            "  Downloading yfinance-0.1.67-py2.py3-none-any.whl (25 kB)\n",
            "Requirement already satisfied: pandas>=0.24 in /usr/local/lib/python3.7/dist-packages (from yfinance) (1.1.5)\n",
            "Requirement already satisfied: numpy>=1.15 in /usr/local/lib/python3.7/dist-packages (from yfinance) (1.19.5)\n",
            "Requirement already satisfied: requests>=2.20 in /usr/local/lib/python3.7/dist-packages (from yfinance) (2.23.0)\n",
            "Collecting lxml>=4.5.1\n",
            "  Downloading lxml-4.6.4-cp37-cp37m-manylinux_2_17_x86_64.manylinux2014_x86_64.manylinux_2_24_x86_64.whl (6.3 MB)\n",
            "\u001b[K     |████████████████████████████████| 6.3 MB 7.6 MB/s \n",
            "\u001b[?25hRequirement already satisfied: multitasking>=0.0.7 in /usr/local/lib/python3.7/dist-packages (from yfinance) (0.0.10)\n",
            "Requirement already satisfied: python-dateutil>=2.7.3 in /usr/local/lib/python3.7/dist-packages (from pandas>=0.24->yfinance) (2.8.2)\n",
            "Requirement already satisfied: pytz>=2017.2 in /usr/local/lib/python3.7/dist-packages (from pandas>=0.24->yfinance) (2018.9)\n",
            "Requirement already satisfied: six>=1.5 in /usr/local/lib/python3.7/dist-packages (from python-dateutil>=2.7.3->pandas>=0.24->yfinance) (1.15.0)\n",
            "Requirement already satisfied: urllib3!=1.25.0,!=1.25.1,<1.26,>=1.21.1 in /usr/local/lib/python3.7/dist-packages (from requests>=2.20->yfinance) (1.24.3)\n",
            "Requirement already satisfied: certifi>=2017.4.17 in /usr/local/lib/python3.7/dist-packages (from requests>=2.20->yfinance) (2021.10.8)\n",
            "Requirement already satisfied: chardet<4,>=3.0.2 in /usr/local/lib/python3.7/dist-packages (from requests>=2.20->yfinance) (3.0.4)\n",
            "Requirement already satisfied: idna<3,>=2.5 in /usr/local/lib/python3.7/dist-packages (from requests>=2.20->yfinance) (2.10)\n",
            "Installing collected packages: lxml, yfinance\n",
            "  Attempting uninstall: lxml\n",
            "    Found existing installation: lxml 4.2.6\n",
            "    Uninstalling lxml-4.2.6:\n",
            "      Successfully uninstalled lxml-4.2.6\n",
            "Successfully installed lxml-4.6.4 yfinance-0.1.67\n",
            "[*********************100%***********************]  1 of 1 completed\n",
            "                   0         1         2  ...  daily_up  three_day_up  five_day_up\n",
            "2015-08-07  0.051805 -0.120037  0.001801  ...         0             0            0\n",
            "2015-08-08  0.056110  0.262269 -0.006654  ...         0             0            0\n",
            "2015-08-09 -0.035000 -0.046077 -0.005264  ...         0             0            0\n",
            "2015-08-10  0.088439  0.069357 -0.004326  ...         1             0            0\n",
            "2015-08-11 -0.024601  0.118722 -0.002938  ...         1             1            0\n",
            "...              ...       ...       ...  ...       ...           ...          ...\n",
            "2021-10-27  0.059555 -0.006475 -0.005597  ...         0             0            0\n",
            "2021-10-28  0.107976  0.159692 -0.006680  ...         1             1            1\n",
            "2021-10-29  0.018310  0.182288 -0.006874  ...         1             1            1\n",
            "2021-10-30  0.135713  0.120782 -0.009073  ...         0             1            1\n",
            "2021-10-31 -0.015900 -0.008753 -0.002650  ...         0             1            1\n",
            "\n",
            "[2274 rows x 780 columns]\n"
          ]
        }
      ]
    }
  ]
}