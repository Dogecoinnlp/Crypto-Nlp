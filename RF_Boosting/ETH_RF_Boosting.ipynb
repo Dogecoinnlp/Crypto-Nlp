{
  "nbformat": 4,
  "nbformat_minor": 0,
  "metadata": {
    "colab": {
      "name": "ETH_RF_Boosting.ipynb",
      "provenance": []
    },
    "kernelspec": {
      "name": "python3",
      "display_name": "Python 3"
    },
    "language_info": {
      "name": "python"
    }
  },
  "cells": [
    {
      "cell_type": "code",
      "metadata": {
        "colab": {
          "base_uri": "https://localhost:8080/"
        },
        "id": "aqhJBp_fGX76",
        "outputId": "ad613210-b66b-4a6d-cae9-6378476fa27f"
      },
      "source": [
        "pip install yfinance --upgrade --no-cache-dir"
      ],
      "execution_count": null,
      "outputs": [
        {
          "output_type": "stream",
          "name": "stdout",
          "text": [
            "Collecting yfinance\n",
            "  Downloading yfinance-0.1.67-py2.py3-none-any.whl (25 kB)\n",
            "Requirement already satisfied: requests>=2.20 in /usr/local/lib/python3.7/dist-packages (from yfinance) (2.23.0)\n",
            "Collecting lxml>=4.5.1\n",
            "  Downloading lxml-4.6.4-cp37-cp37m-manylinux_2_17_x86_64.manylinux2014_x86_64.manylinux_2_24_x86_64.whl (6.3 MB)\n",
            "\u001b[K     |████████████████████████████████| 6.3 MB 18.2 MB/s \n",
            "\u001b[?25hRequirement already satisfied: numpy>=1.15 in /usr/local/lib/python3.7/dist-packages (from yfinance) (1.19.5)\n",
            "Requirement already satisfied: pandas>=0.24 in /usr/local/lib/python3.7/dist-packages (from yfinance) (1.1.5)\n",
            "Requirement already satisfied: multitasking>=0.0.7 in /usr/local/lib/python3.7/dist-packages (from yfinance) (0.0.10)\n",
            "Requirement already satisfied: pytz>=2017.2 in /usr/local/lib/python3.7/dist-packages (from pandas>=0.24->yfinance) (2018.9)\n",
            "Requirement already satisfied: python-dateutil>=2.7.3 in /usr/local/lib/python3.7/dist-packages (from pandas>=0.24->yfinance) (2.8.2)\n",
            "Requirement already satisfied: six>=1.5 in /usr/local/lib/python3.7/dist-packages (from python-dateutil>=2.7.3->pandas>=0.24->yfinance) (1.15.0)\n",
            "Requirement already satisfied: chardet<4,>=3.0.2 in /usr/local/lib/python3.7/dist-packages (from requests>=2.20->yfinance) (3.0.4)\n",
            "Requirement already satisfied: urllib3!=1.25.0,!=1.25.1,<1.26,>=1.21.1 in /usr/local/lib/python3.7/dist-packages (from requests>=2.20->yfinance) (1.24.3)\n",
            "Requirement already satisfied: idna<3,>=2.5 in /usr/local/lib/python3.7/dist-packages (from requests>=2.20->yfinance) (2.10)\n",
            "Requirement already satisfied: certifi>=2017.4.17 in /usr/local/lib/python3.7/dist-packages (from requests>=2.20->yfinance) (2021.10.8)\n",
            "Installing collected packages: lxml, yfinance\n",
            "  Attempting uninstall: lxml\n",
            "    Found existing installation: lxml 4.2.6\n",
            "    Uninstalling lxml-4.2.6:\n",
            "      Successfully uninstalled lxml-4.2.6\n",
            "Successfully installed lxml-4.6.4 yfinance-0.1.67\n"
          ]
        }
      ]
    },
    {
      "cell_type": "code",
      "metadata": {
        "colab": {
          "base_uri": "https://localhost:8080/",
          "height": 467
        },
        "id": "Ni6rKXWvGdDX",
        "outputId": "dc196100-d1fb-4685-d422-2290f5e0bbc3"
      },
      "source": [
        "import pandas as pd\n",
        "import yfinance as yf\n",
        "ETH =  yf.download(  # or pdr.get_data_yahoo(...\n",
        "        # tickers list or string as well\n",
        "        tickers = \"ETH-USD\",\n",
        "\n",
        "        # use \"period\" instead of start/end\n",
        "        # valid periods: 1d,5d,1mo,3mo,6mo,1y,2y,5y,10y,ytd,max\n",
        "        # (optional, default is '1mo')\n",
        "        period = \"max\"\n",
        "\n",
        "    )\n",
        "ETH"
      ],
      "execution_count": null,
      "outputs": [
        {
          "output_type": "stream",
          "name": "stdout",
          "text": [
            "\r[*********************100%***********************]  1 of 1 completed\n"
          ]
        },
        {
          "output_type": "execute_result",
          "data": {
            "text/html": [
              "<div>\n",
              "<style scoped>\n",
              "    .dataframe tbody tr th:only-of-type {\n",
              "        vertical-align: middle;\n",
              "    }\n",
              "\n",
              "    .dataframe tbody tr th {\n",
              "        vertical-align: top;\n",
              "    }\n",
              "\n",
              "    .dataframe thead th {\n",
              "        text-align: right;\n",
              "    }\n",
              "</style>\n",
              "<table border=\"1\" class=\"dataframe\">\n",
              "  <thead>\n",
              "    <tr style=\"text-align: right;\">\n",
              "      <th></th>\n",
              "      <th>Open</th>\n",
              "      <th>High</th>\n",
              "      <th>Low</th>\n",
              "      <th>Close</th>\n",
              "      <th>Adj Close</th>\n",
              "      <th>Volume</th>\n",
              "    </tr>\n",
              "    <tr>\n",
              "      <th>Date</th>\n",
              "      <th></th>\n",
              "      <th></th>\n",
              "      <th></th>\n",
              "      <th></th>\n",
              "      <th></th>\n",
              "      <th></th>\n",
              "    </tr>\n",
              "  </thead>\n",
              "  <tbody>\n",
              "    <tr>\n",
              "      <th>2015-08-07</th>\n",
              "      <td>2.831620</td>\n",
              "      <td>3.536610</td>\n",
              "      <td>2.521120</td>\n",
              "      <td>2.772120</td>\n",
              "      <td>2.772120</td>\n",
              "      <td>164329</td>\n",
              "    </tr>\n",
              "    <tr>\n",
              "      <th>2015-08-08</th>\n",
              "      <td>2.793760</td>\n",
              "      <td>2.798810</td>\n",
              "      <td>0.714725</td>\n",
              "      <td>0.753325</td>\n",
              "      <td>0.753325</td>\n",
              "      <td>674188</td>\n",
              "    </tr>\n",
              "    <tr>\n",
              "      <th>2015-08-09</th>\n",
              "      <td>0.706136</td>\n",
              "      <td>0.879810</td>\n",
              "      <td>0.629191</td>\n",
              "      <td>0.701897</td>\n",
              "      <td>0.701897</td>\n",
              "      <td>532170</td>\n",
              "    </tr>\n",
              "    <tr>\n",
              "      <th>2015-08-10</th>\n",
              "      <td>0.713989</td>\n",
              "      <td>0.729854</td>\n",
              "      <td>0.636546</td>\n",
              "      <td>0.708448</td>\n",
              "      <td>0.708448</td>\n",
              "      <td>405283</td>\n",
              "    </tr>\n",
              "    <tr>\n",
              "      <th>2015-08-11</th>\n",
              "      <td>0.708087</td>\n",
              "      <td>1.131410</td>\n",
              "      <td>0.663235</td>\n",
              "      <td>1.067860</td>\n",
              "      <td>1.067860</td>\n",
              "      <td>1463100</td>\n",
              "    </tr>\n",
              "    <tr>\n",
              "      <th>...</th>\n",
              "      <td>...</td>\n",
              "      <td>...</td>\n",
              "      <td>...</td>\n",
              "      <td>...</td>\n",
              "      <td>...</td>\n",
              "      <td>...</td>\n",
              "    </tr>\n",
              "    <tr>\n",
              "      <th>2021-11-26</th>\n",
              "      <td>4522.208984</td>\n",
              "      <td>4550.842285</td>\n",
              "      <td>3933.506592</td>\n",
              "      <td>4030.908936</td>\n",
              "      <td>4030.908936</td>\n",
              "      <td>26281795488</td>\n",
              "    </tr>\n",
              "    <tr>\n",
              "      <th>2021-11-27</th>\n",
              "      <td>4042.999023</td>\n",
              "      <td>4187.684082</td>\n",
              "      <td>4033.513916</td>\n",
              "      <td>4096.912109</td>\n",
              "      <td>4096.912109</td>\n",
              "      <td>16515693874</td>\n",
              "    </tr>\n",
              "    <tr>\n",
              "      <th>2021-11-28</th>\n",
              "      <td>4101.648926</td>\n",
              "      <td>4297.916504</td>\n",
              "      <td>3989.969971</td>\n",
              "      <td>4294.453613</td>\n",
              "      <td>4294.453613</td>\n",
              "      <td>15953126340</td>\n",
              "    </tr>\n",
              "    <tr>\n",
              "      <th>2021-11-29</th>\n",
              "      <td>4296.946777</td>\n",
              "      <td>4460.848633</td>\n",
              "      <td>4284.504883</td>\n",
              "      <td>4445.104980</td>\n",
              "      <td>4445.104980</td>\n",
              "      <td>19086475837</td>\n",
              "    </tr>\n",
              "    <tr>\n",
              "      <th>2021-11-30</th>\n",
              "      <td>4444.823730</td>\n",
              "      <td>4735.379395</td>\n",
              "      <td>4365.433105</td>\n",
              "      <td>4610.698242</td>\n",
              "      <td>4610.698242</td>\n",
              "      <td>28659736576</td>\n",
              "    </tr>\n",
              "  </tbody>\n",
              "</table>\n",
              "<p>2304 rows × 6 columns</p>\n",
              "</div>"
            ],
            "text/plain": [
              "                   Open         High  ...    Adj Close       Volume\n",
              "Date                                  ...                          \n",
              "2015-08-07     2.831620     3.536610  ...     2.772120       164329\n",
              "2015-08-08     2.793760     2.798810  ...     0.753325       674188\n",
              "2015-08-09     0.706136     0.879810  ...     0.701897       532170\n",
              "2015-08-10     0.713989     0.729854  ...     0.708448       405283\n",
              "2015-08-11     0.708087     1.131410  ...     1.067860      1463100\n",
              "...                 ...          ...  ...          ...          ...\n",
              "2021-11-26  4522.208984  4550.842285  ...  4030.908936  26281795488\n",
              "2021-11-27  4042.999023  4187.684082  ...  4096.912109  16515693874\n",
              "2021-11-28  4101.648926  4297.916504  ...  4294.453613  15953126340\n",
              "2021-11-29  4296.946777  4460.848633  ...  4445.104980  19086475837\n",
              "2021-11-30  4444.823730  4735.379395  ...  4610.698242  28659736576\n",
              "\n",
              "[2304 rows x 6 columns]"
            ]
          },
          "metadata": {},
          "execution_count": 2
        }
      ]
    },
    {
      "cell_type": "code",
      "metadata": {
        "colab": {
          "base_uri": "https://localhost:8080/",
          "height": 450
        },
        "id": "WBDYoF4hHESK",
        "outputId": "aa083926-ca26-4cae-c034-78c0fa4c662c"
      },
      "source": [
        "ETH['ret'] = ETH.Close/ETH.Close.shift(1)-1\n",
        "ETH_ret = ETH[[\"ret\"]].fillna(0)\n",
        "ETH_ret = ETH[['ret']]\n",
        "ETH_ret = ETH_ret.shift(-1)\n",
        "ETH_ret"
      ],
      "execution_count": null,
      "outputs": [
        {
          "output_type": "execute_result",
          "data": {
            "text/html": [
              "<div>\n",
              "<style scoped>\n",
              "    .dataframe tbody tr th:only-of-type {\n",
              "        vertical-align: middle;\n",
              "    }\n",
              "\n",
              "    .dataframe tbody tr th {\n",
              "        vertical-align: top;\n",
              "    }\n",
              "\n",
              "    .dataframe thead th {\n",
              "        text-align: right;\n",
              "    }\n",
              "</style>\n",
              "<table border=\"1\" class=\"dataframe\">\n",
              "  <thead>\n",
              "    <tr style=\"text-align: right;\">\n",
              "      <th></th>\n",
              "      <th>ret</th>\n",
              "    </tr>\n",
              "    <tr>\n",
              "      <th>Date</th>\n",
              "      <th></th>\n",
              "    </tr>\n",
              "  </thead>\n",
              "  <tbody>\n",
              "    <tr>\n",
              "      <th>2015-08-07</th>\n",
              "      <td>-0.728250</td>\n",
              "    </tr>\n",
              "    <tr>\n",
              "      <th>2015-08-08</th>\n",
              "      <td>-0.068268</td>\n",
              "    </tr>\n",
              "    <tr>\n",
              "      <th>2015-08-09</th>\n",
              "      <td>0.009333</td>\n",
              "    </tr>\n",
              "    <tr>\n",
              "      <th>2015-08-10</th>\n",
              "      <td>0.507323</td>\n",
              "    </tr>\n",
              "    <tr>\n",
              "      <th>2015-08-11</th>\n",
              "      <td>0.140075</td>\n",
              "    </tr>\n",
              "    <tr>\n",
              "      <th>...</th>\n",
              "      <td>...</td>\n",
              "    </tr>\n",
              "    <tr>\n",
              "      <th>2021-11-26</th>\n",
              "      <td>0.016374</td>\n",
              "    </tr>\n",
              "    <tr>\n",
              "      <th>2021-11-27</th>\n",
              "      <td>0.048217</td>\n",
              "    </tr>\n",
              "    <tr>\n",
              "      <th>2021-11-28</th>\n",
              "      <td>0.035080</td>\n",
              "    </tr>\n",
              "    <tr>\n",
              "      <th>2021-11-29</th>\n",
              "      <td>0.037253</td>\n",
              "    </tr>\n",
              "    <tr>\n",
              "      <th>2021-11-30</th>\n",
              "      <td>NaN</td>\n",
              "    </tr>\n",
              "  </tbody>\n",
              "</table>\n",
              "<p>2304 rows × 1 columns</p>\n",
              "</div>"
            ],
            "text/plain": [
              "                 ret\n",
              "Date                \n",
              "2015-08-07 -0.728250\n",
              "2015-08-08 -0.068268\n",
              "2015-08-09  0.009333\n",
              "2015-08-10  0.507323\n",
              "2015-08-11  0.140075\n",
              "...              ...\n",
              "2021-11-26  0.016374\n",
              "2021-11-27  0.048217\n",
              "2021-11-28  0.035080\n",
              "2021-11-29  0.037253\n",
              "2021-11-30       NaN\n",
              "\n",
              "[2304 rows x 1 columns]"
            ]
          },
          "metadata": {},
          "execution_count": 22
        }
      ]
    },
    {
      "cell_type": "code",
      "metadata": {
        "colab": {
          "base_uri": "https://localhost:8080/",
          "height": 17
        },
        "id": "CWjJAAR8Jexn",
        "outputId": "a9e2b3fb-00f0-49d8-e484-3406e2cee79d"
      },
      "source": [
        "from google.colab import files\n",
        "ETH = files.upload()"
      ],
      "execution_count": null,
      "outputs": [
        {
          "output_type": "display_data",
          "data": {
            "application/javascript": [
              "\n",
              "    async function download(id, filename, size) {\n",
              "      if (!google.colab.kernel.accessAllowed) {\n",
              "        return;\n",
              "      }\n",
              "      const div = document.createElement('div');\n",
              "      const label = document.createElement('label');\n",
              "      label.textContent = `Downloading \"${filename}\": `;\n",
              "      div.appendChild(label);\n",
              "      const progress = document.createElement('progress');\n",
              "      progress.max = size;\n",
              "      div.appendChild(progress);\n",
              "      document.body.appendChild(div);\n",
              "\n",
              "      const buffers = [];\n",
              "      let downloaded = 0;\n",
              "\n",
              "      const channel = await google.colab.kernel.comms.open(id);\n",
              "      // Send a message to notify the kernel that we're ready.\n",
              "      channel.send({})\n",
              "\n",
              "      for await (const message of channel.messages) {\n",
              "        // Send a message to notify the kernel that we're ready.\n",
              "        channel.send({})\n",
              "        if (message.buffers) {\n",
              "          for (const buffer of message.buffers) {\n",
              "            buffers.push(buffer);\n",
              "            downloaded += buffer.byteLength;\n",
              "            progress.value = downloaded;\n",
              "          }\n",
              "        }\n",
              "      }\n",
              "      const blob = new Blob(buffers, {type: 'application/binary'});\n",
              "      const a = document.createElement('a');\n",
              "      a.href = window.URL.createObjectURL(blob);\n",
              "      a.download = filename;\n",
              "      div.appendChild(a);\n",
              "      a.click();\n",
              "      div.remove();\n",
              "    }\n",
              "  "
            ],
            "text/plain": [
              "<IPython.core.display.Javascript object>"
            ]
          },
          "metadata": {}
        },
        {
          "output_type": "display_data",
          "data": {
            "application/javascript": [
              "download(\"download_845e8ce4-34db-4c53-a7ac-81ab1c6d615c\", \"ETH_total.csv\", 25629140)"
            ],
            "text/plain": [
              "<IPython.core.display.Javascript object>"
            ]
          },
          "metadata": {}
        }
      ]
    },
    {
      "cell_type": "code",
      "metadata": {
        "id": "7iZRIW3-vpB6"
      },
      "source": [
        "import io\n",
        "import pandas as pd\n",
        "ETH_total = pd.read_csv(io.BytesIO(ETH['BTC_total.csv']))"
      ],
      "execution_count": null,
      "outputs": []
    },
    {
      "cell_type": "code",
      "metadata": {
        "colab": {
          "base_uri": "https://localhost:8080/",
          "height": 589
        },
        "id": "vS0lwt-4J3xb",
        "outputId": "545b2bbb-e693-4c75-a76e-b92de1c0706e"
      },
      "source": [
        "## Merge vectors and ret of ETH\n",
        "\n",
        "#decompose using PCA\n",
        "from sklearn.decomposition import PCA\n",
        "#pca components k\n",
        "k = 20\n",
        "\n",
        "pca_model = PCA(n_components=k,random_state=0)\n",
        "reduced_X = pca_model.fit_transform(ETH_total)\n",
        "topic_vectors_reduced = pd.DataFrame(reduced_X, index = ETH_total.index)\n",
        "\n",
        "ETH_final = topic_vectors_reduced.join(ETH_ret, how=\"left\").dropna()\n",
        "ETH_final"
      ],
      "execution_count": null,
      "outputs": [
        {
          "output_type": "execute_result",
          "data": {
            "text/html": [
              "<div>\n",
              "<style scoped>\n",
              "    .dataframe tbody tr th:only-of-type {\n",
              "        vertical-align: middle;\n",
              "    }\n",
              "\n",
              "    .dataframe tbody tr th {\n",
              "        vertical-align: top;\n",
              "    }\n",
              "\n",
              "    .dataframe thead th {\n",
              "        text-align: right;\n",
              "    }\n",
              "</style>\n",
              "<table border=\"1\" class=\"dataframe\">\n",
              "  <thead>\n",
              "    <tr style=\"text-align: right;\">\n",
              "      <th></th>\n",
              "      <th>0</th>\n",
              "      <th>1</th>\n",
              "      <th>2</th>\n",
              "      <th>3</th>\n",
              "      <th>4</th>\n",
              "      <th>5</th>\n",
              "      <th>6</th>\n",
              "      <th>7</th>\n",
              "      <th>8</th>\n",
              "      <th>9</th>\n",
              "      <th>10</th>\n",
              "      <th>11</th>\n",
              "      <th>12</th>\n",
              "      <th>13</th>\n",
              "      <th>14</th>\n",
              "      <th>15</th>\n",
              "      <th>16</th>\n",
              "      <th>17</th>\n",
              "      <th>18</th>\n",
              "      <th>19</th>\n",
              "      <th>ret</th>\n",
              "    </tr>\n",
              "  </thead>\n",
              "  <tbody>\n",
              "    <tr>\n",
              "      <th>2015-08-07</th>\n",
              "      <td>-0.400091</td>\n",
              "      <td>0.360309</td>\n",
              "      <td>0.326650</td>\n",
              "      <td>-0.575662</td>\n",
              "      <td>-0.227988</td>\n",
              "      <td>-0.324846</td>\n",
              "      <td>-0.322314</td>\n",
              "      <td>-0.081054</td>\n",
              "      <td>-0.134044</td>\n",
              "      <td>-0.305117</td>\n",
              "      <td>-0.213023</td>\n",
              "      <td>0.113855</td>\n",
              "      <td>0.120540</td>\n",
              "      <td>0.142838</td>\n",
              "      <td>-0.047680</td>\n",
              "      <td>-0.593707</td>\n",
              "      <td>0.165644</td>\n",
              "      <td>0.271256</td>\n",
              "      <td>0.300218</td>\n",
              "      <td>-0.362383</td>\n",
              "      <td>-0.728250</td>\n",
              "    </tr>\n",
              "    <tr>\n",
              "      <th>2015-08-08</th>\n",
              "      <td>-0.767091</td>\n",
              "      <td>-0.382686</td>\n",
              "      <td>0.139420</td>\n",
              "      <td>0.129595</td>\n",
              "      <td>0.131329</td>\n",
              "      <td>-0.048404</td>\n",
              "      <td>-0.243959</td>\n",
              "      <td>-0.050150</td>\n",
              "      <td>0.486032</td>\n",
              "      <td>0.076700</td>\n",
              "      <td>-0.143249</td>\n",
              "      <td>-0.515927</td>\n",
              "      <td>0.229079</td>\n",
              "      <td>-0.018437</td>\n",
              "      <td>-0.116906</td>\n",
              "      <td>-0.114368</td>\n",
              "      <td>-0.070894</td>\n",
              "      <td>-0.167385</td>\n",
              "      <td>-0.142033</td>\n",
              "      <td>0.173071</td>\n",
              "      <td>-0.068268</td>\n",
              "    </tr>\n",
              "    <tr>\n",
              "      <th>2015-08-09</th>\n",
              "      <td>0.204294</td>\n",
              "      <td>0.335474</td>\n",
              "      <td>0.174738</td>\n",
              "      <td>0.801999</td>\n",
              "      <td>0.077635</td>\n",
              "      <td>-0.180631</td>\n",
              "      <td>-0.240809</td>\n",
              "      <td>0.067531</td>\n",
              "      <td>0.194729</td>\n",
              "      <td>0.022138</td>\n",
              "      <td>-0.193680</td>\n",
              "      <td>0.465021</td>\n",
              "      <td>-0.065694</td>\n",
              "      <td>-0.233249</td>\n",
              "      <td>0.276689</td>\n",
              "      <td>0.434445</td>\n",
              "      <td>-0.051769</td>\n",
              "      <td>0.114680</td>\n",
              "      <td>-0.214130</td>\n",
              "      <td>0.474329</td>\n",
              "      <td>0.009333</td>\n",
              "    </tr>\n",
              "    <tr>\n",
              "      <th>2015-08-10</th>\n",
              "      <td>0.948408</td>\n",
              "      <td>-0.058605</td>\n",
              "      <td>0.000122</td>\n",
              "      <td>-0.193144</td>\n",
              "      <td>-0.407845</td>\n",
              "      <td>0.157489</td>\n",
              "      <td>0.098248</td>\n",
              "      <td>0.610623</td>\n",
              "      <td>-0.154490</td>\n",
              "      <td>0.052278</td>\n",
              "      <td>-0.432803</td>\n",
              "      <td>-0.312658</td>\n",
              "      <td>0.153837</td>\n",
              "      <td>0.245123</td>\n",
              "      <td>-0.310280</td>\n",
              "      <td>-0.394415</td>\n",
              "      <td>-0.237507</td>\n",
              "      <td>-0.176660</td>\n",
              "      <td>-0.213744</td>\n",
              "      <td>-0.091981</td>\n",
              "      <td>0.507323</td>\n",
              "    </tr>\n",
              "    <tr>\n",
              "      <th>2015-08-11</th>\n",
              "      <td>-0.347532</td>\n",
              "      <td>0.294041</td>\n",
              "      <td>0.682745</td>\n",
              "      <td>-0.591012</td>\n",
              "      <td>-0.318973</td>\n",
              "      <td>-0.109869</td>\n",
              "      <td>-0.245589</td>\n",
              "      <td>0.455383</td>\n",
              "      <td>0.122854</td>\n",
              "      <td>0.398525</td>\n",
              "      <td>-0.353938</td>\n",
              "      <td>-0.162458</td>\n",
              "      <td>-0.552056</td>\n",
              "      <td>0.117027</td>\n",
              "      <td>0.162647</td>\n",
              "      <td>-0.240689</td>\n",
              "      <td>0.087231</td>\n",
              "      <td>0.012823</td>\n",
              "      <td>-0.346032</td>\n",
              "      <td>-0.403287</td>\n",
              "      <td>0.140075</td>\n",
              "    </tr>\n",
              "    <tr>\n",
              "      <th>...</th>\n",
              "      <td>...</td>\n",
              "      <td>...</td>\n",
              "      <td>...</td>\n",
              "      <td>...</td>\n",
              "      <td>...</td>\n",
              "      <td>...</td>\n",
              "      <td>...</td>\n",
              "      <td>...</td>\n",
              "      <td>...</td>\n",
              "      <td>...</td>\n",
              "      <td>...</td>\n",
              "      <td>...</td>\n",
              "      <td>...</td>\n",
              "      <td>...</td>\n",
              "      <td>...</td>\n",
              "      <td>...</td>\n",
              "      <td>...</td>\n",
              "      <td>...</td>\n",
              "      <td>...</td>\n",
              "      <td>...</td>\n",
              "      <td>...</td>\n",
              "    </tr>\n",
              "    <tr>\n",
              "      <th>2021-10-27</th>\n",
              "      <td>0.302118</td>\n",
              "      <td>1.066356</td>\n",
              "      <td>-0.030191</td>\n",
              "      <td>0.362687</td>\n",
              "      <td>0.461102</td>\n",
              "      <td>-0.330098</td>\n",
              "      <td>0.437094</td>\n",
              "      <td>-0.119854</td>\n",
              "      <td>0.020355</td>\n",
              "      <td>-0.232540</td>\n",
              "      <td>0.116001</td>\n",
              "      <td>0.141768</td>\n",
              "      <td>0.194781</td>\n",
              "      <td>0.193276</td>\n",
              "      <td>-0.095421</td>\n",
              "      <td>-0.096177</td>\n",
              "      <td>-0.193582</td>\n",
              "      <td>0.134712</td>\n",
              "      <td>-0.047012</td>\n",
              "      <td>-0.053804</td>\n",
              "      <td>0.090849</td>\n",
              "    </tr>\n",
              "    <tr>\n",
              "      <th>2021-10-28</th>\n",
              "      <td>-0.835460</td>\n",
              "      <td>-0.366577</td>\n",
              "      <td>0.447555</td>\n",
              "      <td>-0.093929</td>\n",
              "      <td>0.253136</td>\n",
              "      <td>-0.072920</td>\n",
              "      <td>-0.305479</td>\n",
              "      <td>-0.108034</td>\n",
              "      <td>0.329025</td>\n",
              "      <td>0.260630</td>\n",
              "      <td>-0.432908</td>\n",
              "      <td>-0.039528</td>\n",
              "      <td>0.181794</td>\n",
              "      <td>-0.044961</td>\n",
              "      <td>-0.065589</td>\n",
              "      <td>-0.463474</td>\n",
              "      <td>0.059518</td>\n",
              "      <td>-0.033127</td>\n",
              "      <td>0.351504</td>\n",
              "      <td>-0.284582</td>\n",
              "      <td>0.029722</td>\n",
              "    </tr>\n",
              "    <tr>\n",
              "      <th>2021-10-29</th>\n",
              "      <td>0.048632</td>\n",
              "      <td>-0.589579</td>\n",
              "      <td>0.213141</td>\n",
              "      <td>-0.013560</td>\n",
              "      <td>0.174988</td>\n",
              "      <td>-0.188523</td>\n",
              "      <td>-0.222654</td>\n",
              "      <td>0.028967</td>\n",
              "      <td>-0.062880</td>\n",
              "      <td>0.102752</td>\n",
              "      <td>0.280906</td>\n",
              "      <td>-0.400120</td>\n",
              "      <td>-0.141278</td>\n",
              "      <td>0.200614</td>\n",
              "      <td>0.130773</td>\n",
              "      <td>0.129089</td>\n",
              "      <td>0.071741</td>\n",
              "      <td>0.222164</td>\n",
              "      <td>-0.012778</td>\n",
              "      <td>0.154990</td>\n",
              "      <td>-0.020181</td>\n",
              "    </tr>\n",
              "    <tr>\n",
              "      <th>2021-10-30</th>\n",
              "      <td>0.179621</td>\n",
              "      <td>-0.268775</td>\n",
              "      <td>0.100545</td>\n",
              "      <td>-0.091363</td>\n",
              "      <td>0.742275</td>\n",
              "      <td>0.319818</td>\n",
              "      <td>-0.000166</td>\n",
              "      <td>-0.420521</td>\n",
              "      <td>0.658968</td>\n",
              "      <td>0.017176</td>\n",
              "      <td>0.127931</td>\n",
              "      <td>0.143467</td>\n",
              "      <td>0.287907</td>\n",
              "      <td>0.056286</td>\n",
              "      <td>0.344018</td>\n",
              "      <td>-0.102220</td>\n",
              "      <td>0.254976</td>\n",
              "      <td>-0.199395</td>\n",
              "      <td>0.099958</td>\n",
              "      <td>0.132361</td>\n",
              "      <td>-0.008687</td>\n",
              "    </tr>\n",
              "    <tr>\n",
              "      <th>2021-10-31</th>\n",
              "      <td>-0.807185</td>\n",
              "      <td>-0.188451</td>\n",
              "      <td>0.266391</td>\n",
              "      <td>-0.945833</td>\n",
              "      <td>0.215461</td>\n",
              "      <td>-0.272251</td>\n",
              "      <td>0.679199</td>\n",
              "      <td>-0.155080</td>\n",
              "      <td>-0.013324</td>\n",
              "      <td>0.237167</td>\n",
              "      <td>-0.039190</td>\n",
              "      <td>-0.315084</td>\n",
              "      <td>0.450432</td>\n",
              "      <td>0.038967</td>\n",
              "      <td>-0.119273</td>\n",
              "      <td>0.448754</td>\n",
              "      <td>-0.128695</td>\n",
              "      <td>0.315463</td>\n",
              "      <td>0.365451</td>\n",
              "      <td>-0.018498</td>\n",
              "      <td>0.008524</td>\n",
              "    </tr>\n",
              "  </tbody>\n",
              "</table>\n",
              "<p>2274 rows × 21 columns</p>\n",
              "</div>"
            ],
            "text/plain": [
              "                   0         1         2  ...        18        19       ret\n",
              "2015-08-07 -0.400091  0.360309  0.326650  ...  0.300218 -0.362383 -0.728250\n",
              "2015-08-08 -0.767091 -0.382686  0.139420  ... -0.142033  0.173071 -0.068268\n",
              "2015-08-09  0.204294  0.335474  0.174738  ... -0.214130  0.474329  0.009333\n",
              "2015-08-10  0.948408 -0.058605  0.000122  ... -0.213744 -0.091981  0.507323\n",
              "2015-08-11 -0.347532  0.294041  0.682745  ... -0.346032 -0.403287  0.140075\n",
              "...              ...       ...       ...  ...       ...       ...       ...\n",
              "2021-10-27  0.302118  1.066356 -0.030191  ... -0.047012 -0.053804  0.090849\n",
              "2021-10-28 -0.835460 -0.366577  0.447555  ...  0.351504 -0.284582  0.029722\n",
              "2021-10-29  0.048632 -0.589579  0.213141  ... -0.012778  0.154990 -0.020181\n",
              "2021-10-30  0.179621 -0.268775  0.100545  ...  0.099958  0.132361 -0.008687\n",
              "2021-10-31 -0.807185 -0.188451  0.266391  ...  0.365451 -0.018498  0.008524\n",
              "\n",
              "[2274 rows x 21 columns]"
            ]
          },
          "metadata": {},
          "execution_count": 23
        }
      ]
    },
    {
      "cell_type": "code",
      "metadata": {
        "id": "zQO1isWZKujP"
      },
      "source": [
        "## Train, test data\n",
        "ETH_train = ETH_final[(ETH_final.index >= '2015-08-07') & (ETH_final.index <= '2020-12-31')]\n",
        "ETH_test = ETH_final[(ETH_final.index >= '2021-01-01')]\n",
        "X_train, Y_train = ETH_train.iloc[:,:-1], ETH_train.iloc[:,-1]\n",
        "X_test, Y_test = ETH_test.iloc[:,:-1], ETH_test.iloc[:,-1]"
      ],
      "execution_count": null,
      "outputs": []
    },
    {
      "cell_type": "code",
      "metadata": {
        "colab": {
          "base_uri": "https://localhost:8080/",
          "height": 384
        },
        "id": "0sxhhn2pLcvB",
        "outputId": "53235434-516e-4ca2-c116-cf2907002d07"
      },
      "source": [
        "# explore random forest number of features effect on performance\n",
        "import numpy as np\n",
        "from numpy import mean\n",
        "from numpy import std\n",
        "from sklearn.datasets import make_classification\n",
        "from sklearn.model_selection import cross_val_score\n",
        "from sklearn.model_selection import RepeatedStratifiedKFold\n",
        "from sklearn.ensemble import RandomForestClassifier\n",
        "from matplotlib import pyplot\n",
        " \n",
        "# get a list of models to evaluate\n",
        "def get_models():\n",
        "\tmodels = dict()\n",
        "\t# explore number of features from 1 to 7\n",
        "\tfor i in range(1,8):\n",
        "\t\tmodels[str(i)] = RandomForestClassifier(max_features=i)\n",
        "\treturn models\n",
        " \n",
        "# evaluate a given model using cross-validation\n",
        "def evaluate_model(model, X, y):\n",
        "\t# define the evaluation procedure\n",
        "\tcv = RepeatedStratifiedKFold(n_splits=10, n_repeats=3, random_state=1)\n",
        "\t# evaluate the model and collect the results\n",
        "\tscores = cross_val_score(model, X, y, scoring='accuracy', cv=cv, n_jobs=-1)\n",
        "\treturn scores\n",
        " \n",
        "# define dataset\n",
        "X, y = X_train, np.sign(Y_train)\n",
        "# get the models to evaluate\n",
        "models = get_models()\n",
        "# evaluate the models and store results\n",
        "results, names = list(), list()\n",
        "for name, model in models.items():\n",
        "\t# evaluate the model\n",
        "\tscores = evaluate_model(model, X, y)\n",
        "\t# store the results\n",
        "\tresults.append(scores)\n",
        "\tnames.append(name)\n",
        "\t# summarize the performance along the way\n",
        "\tprint('>%s %.3f (%.3f)' % (name, mean(scores), std(scores)))\n",
        "# plot model performance for comparison\n",
        "pyplot.boxplot(results, labels=names, showmeans=True)\n",
        "pyplot.show()"
      ],
      "execution_count": null,
      "outputs": [
        {
          "output_type": "stream",
          "name": "stdout",
          "text": [
            ">1 0.507 (0.025)\n",
            ">2 0.498 (0.032)\n",
            ">3 0.496 (0.037)\n",
            ">4 0.496 (0.041)\n",
            ">5 0.505 (0.030)\n",
            ">6 0.496 (0.038)\n",
            ">7 0.501 (0.029)\n"
          ]
        },
        {
          "output_type": "display_data",
          "data": {
            "image/png": "[encoded data removed]",
            "text/plain": [
              "<Figure size 432x288 with 1 Axes>"
            ]
          },
          "metadata": {
            "needs_background": "light"
          }
        }
      ]
    },
    {
      "cell_type": "code",
      "metadata": {
        "colab": {
          "base_uri": "https://localhost:8080/",
          "height": 350
        },
        "id": "8Be5hUodNggi",
        "outputId": "e4b5de89-f717-44cb-e19a-0e5b5af888a3"
      },
      "source": [
        "def get_models_n_trees():\n",
        "\tmodels = dict()\n",
        "\t# define number of trees to consider\n",
        "\tn_trees = [10, 50, 100, 500, 1000]\n",
        "\tfor n in n_trees:\n",
        "\t\tmodels[str(n)] = RandomForestClassifier(n_estimators=n)\n",
        "\treturn models\n",
        " \n",
        "# define dataset\n",
        "X, y = X_train, np.sign(Y_train)\n",
        "# get the models to evaluate\n",
        "models = get_models_n_trees()\n",
        "# evaluate the models and store results\n",
        "results, names = list(), list()\n",
        "for name, model in models.items():\n",
        "\t# evaluate the model\n",
        "\tscores = evaluate_model(model, X, y)\n",
        "\t# store the results\n",
        "\tresults.append(scores)\n",
        "\tnames.append(name)\n",
        "\t# summarize the performance along the way\n",
        "\tprint('>%s %.3f (%.3f)' % (name, mean(scores), std(scores)))\n",
        "# plot model performance for comparison\n",
        "pyplot.boxplot(results, labels=names, showmeans=True)\n",
        "pyplot.show()"
      ],
      "execution_count": null,
      "outputs": [
        {
          "output_type": "stream",
          "name": "stdout",
          "text": [
            ">10 0.498 (0.038)\n",
            ">50 0.493 (0.036)\n",
            ">100 0.503 (0.030)\n",
            ">500 0.506 (0.039)\n",
            ">1000 0.502 (0.031)\n"
          ]
        },
        {
          "output_type": "display_data",
          "data": {
            "image/png": "[encoded data removed]",
            "text/plain": [
              "<Figure size 432x288 with 1 Axes>"
            ]
          },
          "metadata": {
            "needs_background": "light"
          }
        }
      ]
    },
    {
      "cell_type": "code",
      "metadata": {
        "colab": {
          "base_uri": "https://localhost:8080/",
          "height": 401
        },
        "id": "H6ognLVGSSWR",
        "outputId": "947ff434-a155-4266-c200-c091e96e62ad"
      },
      "source": [
        "def get_models_max_depth():\n",
        "\tmodels = dict()\n",
        "\t# consider tree depths from 1 to 7 and None=full\n",
        "\tdepths = [i for i in range(1,8)] + [None]\n",
        "\tfor n in depths:\n",
        "\t\tmodels[str(n)] = RandomForestClassifier(max_depth=n)\n",
        "\treturn models\n",
        "\n",
        "# define dataset\n",
        "X, y = X_train, np.sign(Y_train)\n",
        "# get the models to evaluate\n",
        "models = get_models_max_depth()\n",
        "# evaluate the models and store results\n",
        "results, names = list(), list()\n",
        "for name, model in models.items():\n",
        "\t# evaluate the model\n",
        "\tscores = evaluate_model(model, X, y)\n",
        "\t# store the results\n",
        "\tresults.append(scores)\n",
        "\tnames.append(name)\n",
        "\t# summarize the performance along the way\n",
        "\tprint('>%s %.3f (%.3f)' % (name, mean(scores), std(scores)))\n",
        "# plot model performance for comparison\n",
        "pyplot.boxplot(results, labels=names, showmeans=True)\n",
        "pyplot.show()"
      ],
      "execution_count": null,
      "outputs": [
        {
          "output_type": "stream",
          "name": "stdout",
          "text": [
            ">1 0.492 (0.031)\n",
            ">2 0.495 (0.038)\n",
            ">3 0.499 (0.037)\n",
            ">4 0.494 (0.032)\n",
            ">5 0.493 (0.029)\n",
            ">6 0.496 (0.020)\n",
            ">7 0.506 (0.034)\n",
            ">None 0.498 (0.031)\n"
          ]
        },
        {
          "output_type": "display_data",
          "data": {
            "image/png": "[encoded data removed]",
            "text/plain": [
              "<Figure size 432x288 with 1 Axes>"
            ]
          },
          "metadata": {
            "needs_background": "light"
          }
        }
      ]
    },
    {
      "cell_type": "code",
      "metadata": {
        "colab": {
          "base_uri": "https://localhost:8080/"
        },
        "id": "wlK6dn07Nyqk",
        "outputId": "c1c56484-654f-4221-b042-5ef38c88d0f4"
      },
      "source": [
        "## After tuning hyperparameter, we choose max_feateres=1, n_estimators=100\n",
        "\n",
        "model = RandomForestClassifier(max_features=1, n_estimators=100, max_depth=7)\n",
        "# evaluate the model\n",
        "cv = RepeatedStratifiedKFold(n_splits=10, n_repeats=3, random_state=1)\n",
        "n_scores = cross_val_score(model, X_train, np.sign(Y_train), scoring='accuracy', cv=cv, n_jobs=-1, error_score='raise')\n",
        "# report performance\n",
        "print('Accuracy: %.3f (%.3f)' % (np.mean(n_scores), np.std(n_scores)))\n",
        "\n",
        "model.fit(X_train, np.sign(Y_train))\n",
        "Y_predict = model.predict(X_test)"
      ],
      "execution_count": null,
      "outputs": [
        {
          "output_type": "stream",
          "name": "stdout",
          "text": [
            "Accuracy: 0.494 (0.034)\n"
          ]
        }
      ]
    },
    {
      "cell_type": "code",
      "metadata": {
        "id": "72wipJAyPQYF"
      },
      "source": [
        "test = model.predict(X_test)>0"
      ],
      "execution_count": null,
      "outputs": []
    },
    {
      "cell_type": "code",
      "metadata": {
        "id": "gmwhJbRcQO9X"
      },
      "source": [
        "from sklearn.metrics import matthews_corrcoef\n",
        "from sklearn.metrics import f1_score\n",
        "from sklearn.metrics import accuracy_score\n",
        "from sklearn.metrics import confusion_matrix"
      ],
      "execution_count": null,
      "outputs": []
    },
    {
      "cell_type": "code",
      "metadata": {
        "colab": {
          "base_uri": "https://localhost:8080/"
        },
        "id": "tcvR8g39QQ_Y",
        "outputId": "43405929-fe52-4748-f5fd-36dbfc007147"
      },
      "source": [
        "confusion_matrix(np.sign(Y_test), Y_predict)"
      ],
      "execution_count": null,
      "outputs": [
        {
          "output_type": "execute_result",
          "data": {
            "text/plain": [
              "array([[ 50,  83],\n",
              "       [ 62, 109]])"
            ]
          },
          "metadata": {},
          "execution_count": 45
        }
      ]
    },
    {
      "cell_type": "code",
      "metadata": {
        "id": "Kid0xAHIRSkd"
      },
      "source": [
        "def score_model(true, pred, columns = \"\"):\n",
        "    cm = confusion_matrix(true,pred)\n",
        "    l = np.sum(cm)\n",
        "    cm = cm/l\n",
        "    s = [accuracy_score(true, pred), matthews_corrcoef(true, pred), f1_score(true,pred), cm[0,0], cm[1,1],cm[0,1],cm[1,0]]\n",
        "    return pd.DataFrame(data = s, index = ['accuracy', 'matthew_corr', 'f1', 'tn', 'tp','fp','fn'], columns = [columns])"
      ],
      "execution_count": null,
      "outputs": []
    },
    {
      "cell_type": "code",
      "metadata": {
        "colab": {
          "base_uri": "https://localhost:8080/",
          "height": 266
        },
        "id": "UyngnVChRXlj",
        "outputId": "0d451977-ecff-411e-ff5e-7a85b93b964f"
      },
      "source": [
        "score_model(np.sign(Y_test), Y_predict, columns = \"ETH_RandomForest\")"
      ],
      "execution_count": null,
      "outputs": [
        {
          "output_type": "execute_result",
          "data": {
            "text/html": [
              "<div>\n",
              "<style scoped>\n",
              "    .dataframe tbody tr th:only-of-type {\n",
              "        vertical-align: middle;\n",
              "    }\n",
              "\n",
              "    .dataframe tbody tr th {\n",
              "        vertical-align: top;\n",
              "    }\n",
              "\n",
              "    .dataframe thead th {\n",
              "        text-align: right;\n",
              "    }\n",
              "</style>\n",
              "<table border=\"1\" class=\"dataframe\">\n",
              "  <thead>\n",
              "    <tr style=\"text-align: right;\">\n",
              "      <th></th>\n",
              "      <th>ETH_RandomForest</th>\n",
              "    </tr>\n",
              "  </thead>\n",
              "  <tbody>\n",
              "    <tr>\n",
              "      <th>accuracy</th>\n",
              "      <td>0.523026</td>\n",
              "    </tr>\n",
              "    <tr>\n",
              "      <th>matthew_corr</th>\n",
              "      <td>0.013746</td>\n",
              "    </tr>\n",
              "    <tr>\n",
              "      <th>f1</th>\n",
              "      <td>0.600551</td>\n",
              "    </tr>\n",
              "    <tr>\n",
              "      <th>tn</th>\n",
              "      <td>0.164474</td>\n",
              "    </tr>\n",
              "    <tr>\n",
              "      <th>tp</th>\n",
              "      <td>0.358553</td>\n",
              "    </tr>\n",
              "    <tr>\n",
              "      <th>fp</th>\n",
              "      <td>0.273026</td>\n",
              "    </tr>\n",
              "    <tr>\n",
              "      <th>fn</th>\n",
              "      <td>0.203947</td>\n",
              "    </tr>\n",
              "  </tbody>\n",
              "</table>\n",
              "</div>"
            ],
            "text/plain": [
              "              ETH_RandomForest\n",
              "accuracy              0.523026\n",
              "matthew_corr          0.013746\n",
              "f1                    0.600551\n",
              "tn                    0.164474\n",
              "tp                    0.358553\n",
              "fp                    0.273026\n",
              "fn                    0.203947"
            ]
          },
          "metadata": {},
          "execution_count": 47
        }
      ]
    },
    {
      "cell_type": "code",
      "metadata": {
        "colab": {
          "base_uri": "https://localhost:8080/",
          "height": 367
        },
        "id": "uvBM33bTTR1M",
        "outputId": "5fb97459-5246-42f0-99aa-4e0865c33920"
      },
      "source": [
        "## Boosting Method\n",
        "\n",
        "# explore xgboost random forest number of trees effect on performance\n",
        "from xgboost import XGBRFClassifier\n",
        "\n",
        "# get a list of models to evaluate\n",
        "def get_models_n_trees_boost():\n",
        "\tmodels = dict()\n",
        "\t# define the number of trees to consider\n",
        "\tn_trees = [10, 50, 100, 500, 1000, 5000]\n",
        "\tfor v in n_trees:\n",
        "\t\tmodels[str(v)] = XGBRFClassifier(n_estimators=v, subsample=0.9, colsample_bynode=0.2)\n",
        "\treturn models\n",
        "\n",
        "\n",
        "# define dataset\n",
        "X, y = X_train, np.sign(Y_train)\n",
        "# get the models to evaluate\n",
        "models = get_models_n_trees_boost()\n",
        "# evaluate the models and store results\n",
        "results, names = list(), list()\n",
        "for name, model in models.items():\n",
        "\t# evaluate the model and collect the results\n",
        "\tscores = evaluate_model(model, X, y)\n",
        "\t# store the results\n",
        "\tresults.append(scores)\n",
        "\tnames.append(name)\n",
        "\t# summarize performance along the way\n",
        "\tprint('>%s %.3f (%.3f)' % (name, mean(scores), std(scores)))\n",
        "# plot model performance for comparison\n",
        "pyplot.boxplot(results, labels=names, showmeans=True)\n",
        "pyplot.show()"
      ],
      "execution_count": null,
      "outputs": [
        {
          "output_type": "stream",
          "name": "stdout",
          "text": [
            ">10 0.519 (0.039)\n",
            ">50 0.507 (0.042)\n",
            ">100 0.507 (0.042)\n",
            ">500 0.508 (0.033)\n",
            ">1000 0.509 (0.033)\n",
            ">5000 0.513 (0.032)\n"
          ]
        },
        {
          "output_type": "display_data",
          "data": {
            "image/png": "[encoded data removed]",
            "text/plain": [
              "<Figure size 432x288 with 1 Axes>"
            ]
          },
          "metadata": {
            "needs_background": "light"
          }
        }
      ]
    },
    {
      "cell_type": "code",
      "metadata": {
        "colab": {
          "base_uri": "https://localhost:8080/",
          "height": 435
        },
        "id": "zYVIo3-lWhHw",
        "outputId": "5788ccf1-7f2b-4241-8740-9ae9f4f330ee"
      },
      "source": [
        "from numpy import arange\n",
        "def get_models_features_boost():\n",
        "\tmodels = dict()\n",
        "\tfor v in arange(0.1, 1.1, 0.1):\n",
        "\t\tkey = '%.1f' % v\n",
        "\t\tmodels[key] = XGBRFClassifier(n_estimators=100, subsample=0.9, colsample_bynode=v)\n",
        "\treturn models\n",
        "\n",
        "# define dataset\n",
        "X, y = X_train, np.sign(Y_train)\n",
        "# get the models to evaluate\n",
        "models = get_models_features_boost()\n",
        "# evaluate the models and store results\n",
        "results, names = list(), list()\n",
        "for name, model in models.items():\n",
        "\t# evaluate the model and collect the results\n",
        "\tscores = evaluate_model(model, X, y)\n",
        "\t# store the results\n",
        "\tresults.append(scores)\n",
        "\tnames.append(name)\n",
        "\t# summarize performance along the way\n",
        "\tprint('>%s %.3f (%.3f)' % (name, mean(scores), std(scores)))\n",
        "# plot model performance for comparison\n",
        "pyplot.boxplot(results, labels=names, showmeans=True)\n",
        "pyplot.show()"
      ],
      "execution_count": null,
      "outputs": [
        {
          "output_type": "stream",
          "name": "stdout",
          "text": [
            ">0.1 0.499 (0.032)\n",
            ">0.2 0.507 (0.042)\n",
            ">0.3 0.507 (0.038)\n",
            ">0.4 0.505 (0.034)\n",
            ">0.5 0.509 (0.033)\n",
            ">0.6 0.511 (0.031)\n",
            ">0.7 0.508 (0.029)\n",
            ">0.8 0.509 (0.030)\n",
            ">0.9 0.510 (0.031)\n",
            ">1.0 0.509 (0.033)\n"
          ]
        },
        {
          "output_type": "display_data",
          "data": {
            "image/png": "[encoded data removed]",
            "text/plain": [
              "<Figure size 432x288 with 1 Axes>"
            ]
          },
          "metadata": {
            "needs_background": "light"
          }
        }
      ]
    },
    {
      "cell_type": "code",
      "metadata": {
        "id": "RXl2bagTXZGU"
      },
      "source": [
        "## After tuning hyperparameter, we choose n_estimators=500, colsample_bynode=0.6\n",
        "model_boost = XGBRFClassifier(n_estimators=500, subsample=0.9, colsample_bynode=0.6)\n",
        "# fit the model on the whole dataset\n",
        "model_boost.fit(X_train, np.sign(Y_train))\n",
        "# make a prediction\n",
        "Y_predict_boost = model_boost.predict(X_test)"
      ],
      "execution_count": null,
      "outputs": []
    },
    {
      "cell_type": "code",
      "metadata": {
        "colab": {
          "base_uri": "https://localhost:8080/"
        },
        "id": "09ypr63AW-oF",
        "outputId": "3d648a87-7669-4fae-ddb1-67b4966acf75"
      },
      "source": [
        "confusion_matrix(np.sign(Y_test), Y_predict_boost)"
      ],
      "execution_count": null,
      "outputs": [
        {
          "output_type": "execute_result",
          "data": {
            "text/plain": [
              "array([[74, 59],\n",
              "       [95, 76]])"
            ]
          },
          "metadata": {},
          "execution_count": 58
        }
      ]
    },
    {
      "cell_type": "code",
      "metadata": {
        "colab": {
          "base_uri": "https://localhost:8080/",
          "height": 266
        },
        "id": "3fbnaQ5ZZcES",
        "outputId": "fe90a3f3-677e-4cad-e801-9802ecd5ce1a"
      },
      "source": [
        "score_model(np.sign(Y_test), Y_predict_boost, columns = \"ETH_Boosting\")"
      ],
      "execution_count": null,
      "outputs": [
        {
          "output_type": "execute_result",
          "data": {
            "text/html": [
              "<div>\n",
              "<style scoped>\n",
              "    .dataframe tbody tr th:only-of-type {\n",
              "        vertical-align: middle;\n",
              "    }\n",
              "\n",
              "    .dataframe tbody tr th {\n",
              "        vertical-align: top;\n",
              "    }\n",
              "\n",
              "    .dataframe thead th {\n",
              "        text-align: right;\n",
              "    }\n",
              "</style>\n",
              "<table border=\"1\" class=\"dataframe\">\n",
              "  <thead>\n",
              "    <tr style=\"text-align: right;\">\n",
              "      <th></th>\n",
              "      <th>ETH_Boosting</th>\n",
              "    </tr>\n",
              "  </thead>\n",
              "  <tbody>\n",
              "    <tr>\n",
              "      <th>accuracy</th>\n",
              "      <td>0.493421</td>\n",
              "    </tr>\n",
              "    <tr>\n",
              "      <th>matthew_corr</th>\n",
              "      <td>0.000834</td>\n",
              "    </tr>\n",
              "    <tr>\n",
              "      <th>f1</th>\n",
              "      <td>0.496732</td>\n",
              "    </tr>\n",
              "    <tr>\n",
              "      <th>tn</th>\n",
              "      <td>0.243421</td>\n",
              "    </tr>\n",
              "    <tr>\n",
              "      <th>tp</th>\n",
              "      <td>0.250000</td>\n",
              "    </tr>\n",
              "    <tr>\n",
              "      <th>fp</th>\n",
              "      <td>0.194079</td>\n",
              "    </tr>\n",
              "    <tr>\n",
              "      <th>fn</th>\n",
              "      <td>0.312500</td>\n",
              "    </tr>\n",
              "  </tbody>\n",
              "</table>\n",
              "</div>"
            ],
            "text/plain": [
              "              ETH_Boosting\n",
              "accuracy          0.493421\n",
              "matthew_corr      0.000834\n",
              "f1                0.496732\n",
              "tn                0.243421\n",
              "tp                0.250000\n",
              "fp                0.194079\n",
              "fn                0.312500"
            ]
          },
          "metadata": {},
          "execution_count": 59
        }
      ]
    }
  ]
}