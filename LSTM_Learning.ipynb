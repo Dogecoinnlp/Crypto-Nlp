{
 "cells": [
  {
   "cell_type": "code",
   "execution_count": 1,
   "metadata": {},
   "outputs": [
    {
     "name": "stdout",
     "output_type": "stream",
     "text": [
      "Using cuda device\n"
     ]
    }
   ],
   "source": [
    "#conda install pytorch torchvision torchaudio cudatoolkit=10.2 -c pytorch\n",
    "\n",
    "import numpy as np\n",
    "import pandas as pd\n",
    "\n",
    "import torch\n",
    "from torch import nn\n",
    "from torch.utils.data import DataLoader, TensorDataset\n",
    "from torchvision import datasets\n",
    "from torchvision.transforms import ToTensor, Lambda\n",
    "\n",
    "device = 'cuda' if torch.cuda.is_available() else 'cpu'\n",
    "print(f'Using {device} device')"
   ]
  },
  {
   "cell_type": "code",
   "execution_count": 2,
   "metadata": {},
   "outputs": [],
   "source": [
    "from sklearn.metrics import matthews_corrcoef\n",
    "from sklearn.metrics import f1_score\n",
    "from sklearn.metrics import accuracy_score\n",
    "from sklearn.metrics import confusion_matrix\n",
    "\n",
    "#score results\n",
    "def score_model(true, pred, columns = \"\"):\n",
    "    cm = confusion_matrix(true,pred)\n",
    "    l = np.sum(cm)\n",
    "    cm = cm/l\n",
    "    s = [accuracy_score(true, pred), matthews_corrcoef(true, pred), f1_score(true,pred), cm[0,0], cm[1,1],cm[0,1],cm[1,0]]\n",
    "    return pd.DataFrame(data = s, index = ['accuracy', 'matthew_corr', 'f1', 'tn', 'tp','fp','fn'], columns = [columns])\n"
   ]
  },
  {
   "cell_type": "code",
   "execution_count": 22,
   "metadata": {},
   "outputs": [],
   "source": [
    "#prediction\n",
    "class LSTM(nn.Module):\n",
    "    def __init__(self, num_layers=1, dropout = 0):\n",
    "        super(LSTM, self).__init__()\n",
    "        self.lstm = nn.LSTM(768+1,1, num_layers, dropout = dropout)\n",
    "    def forward(self, x):\n",
    "        output, hidden = self.lstm(x)\n",
    "        output = torch.squeeze(output)\n",
    "        return output\n",
    "    \n",
    "#classification\n",
    "class LSTM2(nn.Module):\n",
    "    def __init__(self, num_layers=1, dropout = 0):\n",
    "        super(LSTM2, self).__init__()\n",
    "        self.lstm = nn.LSTM(768+1,1, num_layers, dropout = dropout)\n",
    "        self.trading_strategy = nn.Sigmoid()\n",
    "    def forward(self, x):\n",
    "        output, hidden = self.lstm(x)\n",
    "        output = torch.squeeze(output)\n",
    "        output = self.trading_strategy(output)\n",
    "        return torch.squeeze(torch.tensor_split(output,[4], dim = 1)[1])   "
   ]
  },
  {
   "cell_type": "code",
   "execution_count": 4,
   "metadata": {},
   "outputs": [],
   "source": [
    "#import btc price history\n",
    "btc_prices = pd.read_csv(\"btc_prices.csv\", index_col = 0)\n",
    "btc_prices.index = pd.to_datetime(btc_prices.index).strftime('%Y-%m-%d')\n",
    "btc_prices['log_ret'] = np.log(btc_prices.Close/btc_prices.Close.shift(1))\n",
    "btc_ret = btc_prices[[\"log_ret\"]].dropna()\n",
    "\n",
    "#get the right daterange\n",
    "btc_ret_train = btc_ret[(btc_ret.index >= '2016-01-01') & (btc_ret.index < '2021-11-01')].sort_index()\n",
    "\n",
    "topic_vectors = pd.read_csv(\"bitcoin/btc_2016.csv\", index_col = 0)\n",
    "for i in [2017,2018,2019,2020, 2021]:\n",
    "    topic_vectors = topic_vectors.append(pd.read_csv(f\"bitcoin/btc_{i}.csv\", index_col = 0))\n",
    "topic_vectors.index = pd.date_range('2016-01-01', periods=len(topic_vectors)).strftime('%Y-%m-%d')\n",
    "topic_vectors = btc_ret_train.join(topic_vectors, how= \"left\").dropna()"
   ]
  },
  {
   "cell_type": "code",
   "execution_count": 4,
   "metadata": {},
   "outputs": [],
   "source": [
    "#import eth price history\n",
    "eth_prices = pd.read_csv(\"eth_prices.csv\", index_col = 0)\n",
    "eth_prices.index = pd.to_datetime(eth_prices.index).strftime('%Y-%m-%d')\n",
    "eth_prices['log_ret'] = np.log(eth_prices.Close/eth_prices.Close.shift(1))\n",
    "eth_ret = eth_prices[[\"log_ret\"]].dropna()\n",
    "\n",
    "#get the right daterange\n",
    "eth_ret_train = eth_ret[(eth_ret.index >= '2014-01-01') & (eth_ret.index < '2021-11-01')].sort_index()\n",
    "\n",
    "topic_vectors = pd.read_csv(\"bitcoin/eth_2014.csv\", index_col = 0)\n",
    "for i in [2015, 2016, 2017,2018,2019,2020, 2021]:\n",
    "    topic_vectors = topic_vectors.append(pd.read_csv(f\"bitcoin/eth_{i}.csv\", index_col = 0))\n",
    "topic_vectors.index = pd.date_range('2014-01-01', periods=len(topic_vectors)).strftime('%Y-%m-%d')\n",
    "topic_vectors = eth_ret_train.join(topic_vectors, how= \"left\").dropna()"
   ]
  },
  {
   "cell_type": "code",
   "execution_count": 5,
   "metadata": {},
   "outputs": [],
   "source": [
    "#get the time series nicely streamlined into the machine learning models\n",
    "rolling_window = 5\n",
    "\n",
    "X_data = np.empty([len(topic_vectors)-rolling_window,rolling_window,769])\n",
    "y_series_data = np.empty([len(topic_vectors)-rolling_window,rolling_window])\n",
    "for i in range(0,len(topic_vectors)-rolling_window):\n",
    "    X_data[i] = np.array(topic_vectors.iloc[i:i+rolling_window,:])\n",
    "    y_series_data[i] = np.array(topic_vectors.iloc[i+1:i+1+rolling_window,0])\n",
    "y_data = np.array(topic_vectors.iloc[rolling_window:,0])\n",
    "\n",
    "train_cutoff = -3000\n",
    "tune_cutoff = -604\n",
    "test_cutoff = -304\n",
    "\n",
    "X = X_data[:tune_cutoff]\n",
    "X_tune = X_data[tune_cutoff:test_cutoff]\n",
    "X_test = X_data[test_cutoff:]\n",
    "\n",
    "\n",
    "y = y_data[:tune_cutoff]\n",
    "y_tune = y_data[tune_cutoff:test_cutoff]\n",
    "y_test = y_data[test_cutoff:]\n",
    "\n",
    "y_series = y_series_data[:tune_cutoff]\n",
    "y_series_test = y_series_data[test_cutoff:]"
   ]
  },
  {
   "cell_type": "code",
   "execution_count": 10,
   "metadata": {},
   "outputs": [],
   "source": [
    "def train_loop(dataloader, model, loss_fn, optimizer, new = True):\n",
    "    size = len(dataloader.dataset)\n",
    "    for batch, (X, y) in enumerate(dataloader):\n",
    "        # Compute prediction and loss\n",
    "        pred = model(X)\n",
    "        loss = loss_fn(pred, y)\n",
    "\n",
    "        # Backpropagation\n",
    "        optimizer.zero_grad()\n",
    "        loss.backward()\n",
    "        optimizer.step()\n",
    "\n",
    "    loss, current = loss.item(), batch * len(X)\n",
    "    print(f\"loss: {loss:>7f}  [{current:>5d}/{size:>5d}]\")"
   ]
  },
  {
   "cell_type": "code",
   "execution_count": 8,
   "metadata": {},
   "outputs": [],
   "source": [
    "#lstm\n",
    "train_dataset = TensorDataset(torch.tensor(X).float(), torch.tensor(y_series).float())\n",
    "train_dataloader = DataLoader(train_dataset, batch_size=64, shuffle=True)\n",
    "#test_dataloader = DataLoader(test_data, batch_size=64, shuffle=True)"
   ]
  },
  {
   "cell_type": "code",
   "execution_count": 25,
   "metadata": {},
   "outputs": [],
   "source": [
    "#weighted BCELoss\n",
    "def BCELoss_weighted(weights):\n",
    "    def loss(pred, target):\n",
    "        pred = torch.clamp(pred,min=1e-7,max=1-1e-7)\n",
    "        bce = - weights[1] * target * torch.log(pred) - (1 - target) * weights[0] * torch.log(1 - pred)\n",
    "        return torch.mean(bce)\n",
    "    return loss"
   ]
  },
  {
   "cell_type": "code",
   "execution_count": null,
   "metadata": {},
   "outputs": [],
   "source": [
    "#hyperparameters\n",
    "lr = [1e-3, 1e-2, 1e-1, 1e-4]\n",
    "\n",
    "#find best model\n",
    "for rate in lr:\n",
    "    model = LSTM(1,0)\n",
    "\n",
    "    learning_rate = rate\n",
    "    batch_size = 64\n",
    "    epochs = 500\n",
    "\n",
    "    loss_fn = nn.MSELoss()\n",
    "    optimizer = torch.optim.SGD(model.parameters(), lr=learning_rate)\n",
    "\n",
    "    print(\"Rate: \",rate)\n",
    "    for t in range(epochs):\n",
    "        print(f\"Epoch {t+1}\\n-------------------------------\")\n",
    "        train_loop(train_dataloader, model, loss_fn, optimizer)\n",
    "    x_test = torch.tensor(X_tune).float()\n",
    "    pred = torch.squeeze(torch.tensor_split(model(x_test),[4], dim = 1)[1]).detach().numpy()\n",
    "    print(score_model(pred>0, y_tune>0))"
   ]
  },
  {
   "cell_type": "code",
   "execution_count": null,
   "metadata": {},
   "outputs": [],
   "source": [
    "#lstm score, sequence output, prediction\n",
    "x_test = torch.tensor(X_test).float()\n",
    "pred = torch.squeeze(torch.tensor_split(model(x_test),[4], dim = 1)[1]).detach().numpy()\n",
    "score_model(pred>0, y_test>0)"
   ]
  },
  {
   "cell_type": "code",
   "execution_count": 13,
   "metadata": {},
   "outputs": [],
   "source": [
    "#lstm classification\n",
    "train_dataset = TensorDataset(torch.tensor(X).float(), torch.tensor(y>0).float())\n",
    "train_dataloader = DataLoader(train_dataset, batch_size=64, shuffle=True)\n",
    "#test_dataloader = DataLoader(test_data, batch_size=64, shuffle=True)"
   ]
  },
  {
   "cell_type": "code",
   "execution_count": null,
   "metadata": {},
   "outputs": [],
   "source": [
    "#weighted BCELoss\n",
    "def BCELoss_weighted(weights):\n",
    "    def loss(pred, target):\n",
    "        pred = torch.clamp(pred,min=1e-7,max=1-1e-7)\n",
    "        bce = - weights[1] * target * torch.log(pred) - (1 - target) * weights[0] * torch.log(1 - pred)\n",
    "        return torch.mean(bce)\n",
    "    return loss"
   ]
  },
  {
   "cell_type": "code",
   "execution_count": null,
   "metadata": {},
   "outputs": [],
   "source": [
    "#hyperparameters\n",
    "lr = [1e-3, 1e-2, 1e-1, 1e-4]\n",
    "\n",
    "#find best model\n",
    "for rate in lr:\n",
    "    model = LSTM2(1,0)\n",
    "\n",
    "    learning_rate = rate\n",
    "    batch_size = 64\n",
    "    epochs = 1\n",
    "\n",
    "    loss_fn = BCELoss_weighted(weights = [1,1])\n",
    "    optimizer = torch.optim.SGD(model.parameters(), lr=learning_rate)\n",
    "\n",
    "    print(\"Rate: \",rate)\n",
    "    for t in range(epochs):\n",
    "        print(f\"Epoch {t+1}\\n-------------------------------\")\n",
    "        train_loop(train_dataloader, model, loss_fn, optimizer)\n",
    "        x_test = torch.tensor(X_tune).float()\n",
    "        pred = model(x_test).detach().numpy()\n",
    "        print(score_model(pred>0.5, y_tune>0))"
   ]
  },
  {
   "cell_type": "code",
   "execution_count": null,
   "metadata": {},
   "outputs": [],
   "source": [
    "#score, single output, classification\n",
    "x_test = torch.tensor(X_test).float()\n",
    "pred = model(x_test).detach().numpy()\n",
    "score_model(pred>0.5, y_test>0)"
   ]
  }
 ],
 "metadata": {
  "kernelspec": {
   "display_name": "Python 3 (ipykernel)",
   "language": "python",
   "name": "python3"
  },
  "language_info": {
   "codemirror_mode": {
    "name": "ipython",
    "version": 3
   },
   "file_extension": ".py",
   "mimetype": "text/x-python",
   "name": "python",
   "nbconvert_exporter": "python",
   "pygments_lexer": "ipython3",
   "version": "3.7.11"
  }
 },
 "nbformat": 4,
 "nbformat_minor": 4
}
